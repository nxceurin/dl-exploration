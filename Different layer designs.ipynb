{
  "nbformat": 4,
  "nbformat_minor": 0,
  "metadata": {
    "colab": {
      "provenance": [],
      "collapsed_sections": [
        "u05xLR04mSaL",
        "1nVkDl6Nqohu",
        "2SqvM5cPZsyY",
        "Q_7rK2rttqUW",
        "BLI0NAKYWGpZ",
        "DEpxY8B5fnUA",
        "P7Y5-35ug_kb",
        "H1NsT4hloGTs",
        "YPBvsQdgrhMW"
      ]
    },
    "kernelspec": {
      "name": "python3",
      "display_name": "Python 3"
    },
    "language_info": {
      "name": "python"
    }
  },
  "cells": [
    {
      "cell_type": "code",
      "execution_count": 1,
      "metadata": {
        "id": "l2Mns7-KciWp"
      },
      "outputs": [],
      "source": [
        "import numpy as np\n",
        "import matplotlib.pyplot as plt\n",
        "from sklearn.model_selection import train_test_split\n",
        "\n",
        "import keras\n",
        "from keras.datasets import mnist\n",
        "from keras.models import Sequential\n",
        "from keras.layers import Dense\n",
        "from tensorflow.keras.optimizers import Adam\n",
        "from keras.utils import np_utils\n",
        "\n",
        "import time"
      ]
    },
    {
      "cell_type": "code",
      "source": [
        "(x_train, y_train), (x_test, y_test)= mnist.load_data()"
      ],
      "metadata": {
        "id": "8nYIGMJacyCl",
        "colab": {
          "base_uri": "https://localhost:8080/"
        },
        "outputId": "0f065f14-19c4-4954-fcb7-2c7b94c67a08"
      },
      "execution_count": 2,
      "outputs": [
        {
          "output_type": "stream",
          "name": "stdout",
          "text": [
            "Downloading data from https://storage.googleapis.com/tensorflow/tf-keras-datasets/mnist.npz\n",
            "11490434/11490434 [==============================] - 0s 0us/step\n"
          ]
        }
      ]
    },
    {
      "cell_type": "markdown",
      "source": [
        "### Data preprocessing"
      ],
      "metadata": {
        "id": "u05xLR04mSaL"
      }
    },
    {
      "cell_type": "code",
      "source": [
        "print(\"Train shape:\", x_train.shape)\n",
        "print(\"Test shape: \", x_test.shape)"
      ],
      "metadata": {
        "colab": {
          "base_uri": "https://localhost:8080/"
        },
        "id": "9Re-BnLYoLGl",
        "outputId": "cf1f7617-9687-4ec8-ad60-5133bb09bf0a"
      },
      "execution_count": 3,
      "outputs": [
        {
          "output_type": "stream",
          "name": "stdout",
          "text": [
            "Train shape: (60000, 28, 28)\n",
            "Test shape:  (10000, 28, 28)\n"
          ]
        }
      ]
    },
    {
      "cell_type": "code",
      "source": [
        "#reshape\n",
        "x_train= x_train.reshape(60000,784)\n",
        "x_test= x_test.reshape(10000, 784)\n",
        "y_train = np_utils.to_categorical(y_train, 10)\n",
        "y_test = np_utils.to_categorical(y_test, 10)\n",
        "\n",
        "# Normalize to 0 to 1 range\n",
        "x_train = x_train.astype('float32')\n",
        "x_test = x_test.astype('float32')\n",
        "x_train /= 255\n",
        "x_test /= 255"
      ],
      "metadata": {
        "id": "RFqMR-qYlOHa"
      },
      "execution_count": 4,
      "outputs": []
    },
    {
      "cell_type": "markdown",
      "source": [
        "## 1: Number of nodes"
      ],
      "metadata": {
        "id": "1nVkDl6Nqohu"
      }
    },
    {
      "cell_type": "code",
      "source": [
        "model = Sequential()\n",
        "model.add(Dense(32, activation='sigmoid', input_shape=(784,)))\n",
        "model.add(Dense(10, activation='softmax'))\n",
        "model.summary()"
      ],
      "metadata": {
        "colab": {
          "base_uri": "https://localhost:8080/"
        },
        "id": "6Gm0UH3SlwMB",
        "outputId": "b1d49af8-accb-41cf-f23d-0894aa0fe1e6"
      },
      "execution_count": 5,
      "outputs": [
        {
          "output_type": "stream",
          "name": "stdout",
          "text": [
            "Model: \"sequential\"\n",
            "_________________________________________________________________\n",
            " Layer (type)                Output Shape              Param #   \n",
            "=================================================================\n",
            " dense (Dense)               (None, 32)                25120     \n",
            "                                                                 \n",
            " dense_1 (Dense)             (None, 10)                330       \n",
            "                                                                 \n",
            "=================================================================\n",
            "Total params: 25,450\n",
            "Trainable params: 25,450\n",
            "Non-trainable params: 0\n",
            "_________________________________________________________________\n"
          ]
        }
      ]
    },
    {
      "cell_type": "code",
      "source": [
        "model.compile(loss='categorical_crossentropy', optimizer=Adam(), metrics=['accuracy'])"
      ],
      "metadata": {
        "id": "catd9KoRqENg"
      },
      "execution_count": 6,
      "outputs": []
    },
    {
      "cell_type": "code",
      "source": [
        "history = model.fit(x_train, y_train, epochs= 10)"
      ],
      "metadata": {
        "colab": {
          "base_uri": "https://localhost:8080/"
        },
        "id": "XnbNASANq3qp",
        "outputId": "d656c389-a99e-408b-8fc1-c026765b41c0"
      },
      "execution_count": 7,
      "outputs": [
        {
          "output_type": "stream",
          "name": "stdout",
          "text": [
            "Epoch 1/10\n",
            "1875/1875 [==============================] - 8s 4ms/step - loss: 0.5825 - accuracy: 0.8715\n",
            "Epoch 2/10\n",
            "1875/1875 [==============================] - 7s 4ms/step - loss: 0.2524 - accuracy: 0.9303\n",
            "Epoch 3/10\n",
            "1875/1875 [==============================] - 7s 4ms/step - loss: 0.2014 - accuracy: 0.9443\n",
            "Epoch 4/10\n",
            "1875/1875 [==============================] - 4s 2ms/step - loss: 0.1732 - accuracy: 0.9513\n",
            "Epoch 5/10\n",
            "1875/1875 [==============================] - 4s 2ms/step - loss: 0.1533 - accuracy: 0.9566\n",
            "Epoch 6/10\n",
            "1875/1875 [==============================] - 4s 2ms/step - loss: 0.1387 - accuracy: 0.9612\n",
            "Epoch 7/10\n",
            "1875/1875 [==============================] - 4s 2ms/step - loss: 0.1269 - accuracy: 0.9644\n",
            "Epoch 8/10\n",
            "1875/1875 [==============================] - 4s 2ms/step - loss: 0.1174 - accuracy: 0.9669\n",
            "Epoch 9/10\n",
            "1875/1875 [==============================] - 4s 2ms/step - loss: 0.1096 - accuracy: 0.9690\n",
            "Epoch 10/10\n",
            "1875/1875 [==============================] - 4s 2ms/step - loss: 0.1029 - accuracy: 0.9705\n"
          ]
        }
      ]
    },
    {
      "cell_type": "code",
      "source": [
        "score = model.evaluate(x_test, y_test)\n",
        "print('Test loss:', score[0])\n",
        "print('Test accuracy:', score[1])"
      ],
      "metadata": {
        "colab": {
          "base_uri": "https://localhost:8080/"
        },
        "id": "RE6hrreWrPwC",
        "outputId": "4e83872b-738a-44b0-ed7c-09912bd78f9d"
      },
      "execution_count": 8,
      "outputs": [
        {
          "output_type": "stream",
          "name": "stdout",
          "text": [
            "313/313 [==============================] - 1s 2ms/step - loss: 0.1236 - accuracy: 0.9641\n",
            "Test loss: 0.12356460839509964\n",
            "Test accuracy: 0.9641000032424927\n"
          ]
        }
      ]
    },
    {
      "cell_type": "code",
      "source": [
        "def q1train(nodes):\n",
        "  model = Sequential()\n",
        "  model.add(Dense(nodes, activation='sigmoid', input_shape=(784,)))\n",
        "  model.add(Dense(10, activation='softmax'))\n",
        "  model.compile(loss='categorical_crossentropy', optimizer=Adam(), metrics=['accuracy'])\n",
        "  start= time.time()\n",
        "  history = model.fit(x_train, y_train, epochs= 10)\n",
        "  end= time.time()\n",
        "  score = model.evaluate(x_test, y_test)\n",
        "  print(\"Train time for\", nodes, \"nodes:\", (end-start))\n",
        "  print('Test loss for', nodes, \"nodes:\", score[0])\n",
        "  print('Test accuracy:', score[1])\n",
        "  return score[1], (end-start)"
      ],
      "metadata": {
        "id": "stTB8e1UwcBQ"
      },
      "execution_count": 9,
      "outputs": []
    },
    {
      "cell_type": "code",
      "source": [
        "acclist= []\n",
        "timelist= []"
      ],
      "metadata": {
        "id": "rpeLIxYpLoL9"
      },
      "execution_count": 10,
      "outputs": []
    },
    {
      "cell_type": "code",
      "source": [
        "acc, t= q1train(4)\n",
        "acclist.append(acc)\n",
        "timelist.append(t)"
      ],
      "metadata": {
        "colab": {
          "base_uri": "https://localhost:8080/"
        },
        "id": "96Eo7br_xNAH",
        "outputId": "7f4f0241-42bd-46a0-ce4a-f5e6530bb7e2"
      },
      "execution_count": 11,
      "outputs": [
        {
          "output_type": "stream",
          "name": "stdout",
          "text": [
            "Epoch 1/10\n",
            "1875/1875 [==============================] - 4s 2ms/step - loss: 1.5808 - accuracy: 0.5580\n",
            "Epoch 2/10\n",
            "1875/1875 [==============================] - 4s 2ms/step - loss: 1.0511 - accuracy: 0.6590\n",
            "Epoch 3/10\n",
            "1875/1875 [==============================] - 7s 4ms/step - loss: 0.8973 - accuracy: 0.6949\n",
            "Epoch 4/10\n",
            "1875/1875 [==============================] - 4s 2ms/step - loss: 0.8138 - accuracy: 0.7323\n",
            "Epoch 5/10\n",
            "1875/1875 [==============================] - 4s 2ms/step - loss: 0.7334 - accuracy: 0.7872\n",
            "Epoch 6/10\n",
            "1875/1875 [==============================] - 4s 2ms/step - loss: 0.6854 - accuracy: 0.7974\n",
            "Epoch 7/10\n",
            "1875/1875 [==============================] - 4s 2ms/step - loss: 0.6582 - accuracy: 0.8031\n",
            "Epoch 8/10\n",
            "1875/1875 [==============================] - 3s 2ms/step - loss: 0.6394 - accuracy: 0.8104\n",
            "Epoch 9/10\n",
            "1875/1875 [==============================] - 3s 2ms/step - loss: 0.6243 - accuracy: 0.8149\n",
            "Epoch 10/10\n",
            "1875/1875 [==============================] - 4s 2ms/step - loss: 0.6125 - accuracy: 0.8187\n",
            "313/313 [==============================] - 1s 2ms/step - loss: 0.6172 - accuracy: 0.8121\n",
            "Train time for 4 nodes: 40.06503987312317\n",
            "Test loss for 4 nodes: 0.6171796917915344\n",
            "Test accuracy: 0.8120999932289124\n"
          ]
        }
      ]
    },
    {
      "cell_type": "code",
      "source": [
        "acc, t= q1train(32)\n",
        "acclist.append(acc)\n",
        "timelist.append(t)"
      ],
      "metadata": {
        "colab": {
          "base_uri": "https://localhost:8080/"
        },
        "id": "bRZypjj5xO_c",
        "outputId": "7ff2a8d0-8489-4fe8-8e88-181bd8fa21cb"
      },
      "execution_count": 12,
      "outputs": [
        {
          "output_type": "stream",
          "name": "stdout",
          "text": [
            "Epoch 1/10\n",
            "1875/1875 [==============================] - 4s 2ms/step - loss: 0.5780 - accuracy: 0.8663\n",
            "Epoch 2/10\n",
            "1875/1875 [==============================] - 6s 3ms/step - loss: 0.2628 - accuracy: 0.9268\n",
            "Epoch 3/10\n",
            "1875/1875 [==============================] - 6s 3ms/step - loss: 0.2112 - accuracy: 0.9395\n",
            "Epoch 4/10\n",
            "1875/1875 [==============================] - 4s 2ms/step - loss: 0.1808 - accuracy: 0.9482\n",
            "Epoch 5/10\n",
            "1875/1875 [==============================] - 4s 2ms/step - loss: 0.1602 - accuracy: 0.9542\n",
            "Epoch 6/10\n",
            "1875/1875 [==============================] - 4s 2ms/step - loss: 0.1444 - accuracy: 0.9594\n",
            "Epoch 7/10\n",
            "1875/1875 [==============================] - 4s 2ms/step - loss: 0.1318 - accuracy: 0.9620\n",
            "Epoch 8/10\n",
            "1875/1875 [==============================] - 4s 2ms/step - loss: 0.1215 - accuracy: 0.9653\n",
            "Epoch 9/10\n",
            "1875/1875 [==============================] - 4s 2ms/step - loss: 0.1125 - accuracy: 0.9682\n",
            "Epoch 10/10\n",
            "1875/1875 [==============================] - 5s 3ms/step - loss: 0.1052 - accuracy: 0.9702\n",
            "313/313 [==============================] - 1s 2ms/step - loss: 0.1357 - accuracy: 0.9589\n",
            "Train time for 32 nodes: 82.32661700248718\n",
            "Test loss for 32 nodes: 0.13573643565177917\n",
            "Test accuracy: 0.958899974822998\n"
          ]
        }
      ]
    },
    {
      "cell_type": "code",
      "source": [
        "acc, t= q1train(128)\n",
        "acclist.append(acc)\n",
        "timelist.append(t)"
      ],
      "metadata": {
        "colab": {
          "base_uri": "https://localhost:8080/"
        },
        "id": "gMjwBVgFxhvQ",
        "outputId": "3124ee08-b28f-4422-cdb5-f6673e0a6867"
      },
      "execution_count": 13,
      "outputs": [
        {
          "output_type": "stream",
          "name": "stdout",
          "text": [
            "Epoch 1/10\n",
            "1875/1875 [==============================] - 7s 3ms/step - loss: 0.4023 - accuracy: 0.8945\n",
            "Epoch 2/10\n",
            "1875/1875 [==============================] - 6s 3ms/step - loss: 0.1934 - accuracy: 0.9447\n",
            "Epoch 3/10\n",
            "1875/1875 [==============================] - 5s 3ms/step - loss: 0.1406 - accuracy: 0.9602\n",
            "Epoch 4/10\n",
            "1875/1875 [==============================] - 6s 3ms/step - loss: 0.1086 - accuracy: 0.9685\n",
            "Epoch 5/10\n",
            "1875/1875 [==============================] - 6s 3ms/step - loss: 0.0866 - accuracy: 0.9758\n",
            "Epoch 6/10\n",
            "1875/1875 [==============================] - 5s 3ms/step - loss: 0.0707 - accuracy: 0.9804\n",
            "Epoch 7/10\n",
            "1875/1875 [==============================] - 6s 3ms/step - loss: 0.0587 - accuracy: 0.9836\n",
            "Epoch 8/10\n",
            "1875/1875 [==============================] - 5s 3ms/step - loss: 0.0488 - accuracy: 0.9870\n",
            "Epoch 9/10\n",
            "1875/1875 [==============================] - 5s 3ms/step - loss: 0.0414 - accuracy: 0.9894\n",
            "Epoch 10/10\n",
            "1875/1875 [==============================] - 5s 3ms/step - loss: 0.0343 - accuracy: 0.9914\n",
            "313/313 [==============================] - 1s 2ms/step - loss: 0.0735 - accuracy: 0.9779\n",
            "Train time for 128 nodes: 82.39162302017212\n",
            "Test loss for 128 nodes: 0.073516845703125\n",
            "Test accuracy: 0.9779000282287598\n"
          ]
        }
      ]
    },
    {
      "cell_type": "code",
      "source": [
        "acc, t= q1train(512)\n",
        "acclist.append(acc)\n",
        "timelist.append(t)"
      ],
      "metadata": {
        "colab": {
          "base_uri": "https://localhost:8080/"
        },
        "id": "vOKpbXcZxslN",
        "outputId": "46be89f3-becc-4f4a-afc4-abde9879ad4a"
      },
      "execution_count": 14,
      "outputs": [
        {
          "output_type": "stream",
          "name": "stdout",
          "text": [
            "Epoch 1/10\n",
            "1875/1875 [==============================] - 10s 5ms/step - loss: 0.3389 - accuracy: 0.9041\n",
            "Epoch 2/10\n",
            "1875/1875 [==============================] - 10s 5ms/step - loss: 0.1717 - accuracy: 0.9503\n",
            "Epoch 3/10\n",
            "1875/1875 [==============================] - 10s 5ms/step - loss: 0.1135 - accuracy: 0.9672\n",
            "Epoch 4/10\n",
            "1875/1875 [==============================] - 10s 5ms/step - loss: 0.0803 - accuracy: 0.9763\n",
            "Epoch 5/10\n",
            "1875/1875 [==============================] - 9s 5ms/step - loss: 0.0583 - accuracy: 0.9825\n",
            "Epoch 6/10\n",
            "1875/1875 [==============================] - 10s 5ms/step - loss: 0.0438 - accuracy: 0.9871\n",
            "Epoch 7/10\n",
            "1875/1875 [==============================] - 12s 6ms/step - loss: 0.0324 - accuracy: 0.9908\n",
            "Epoch 8/10\n",
            "1875/1875 [==============================] - 10s 5ms/step - loss: 0.0245 - accuracy: 0.9931\n",
            "Epoch 9/10\n",
            "1875/1875 [==============================] - 10s 5ms/step - loss: 0.0182 - accuracy: 0.9951\n",
            "Epoch 10/10\n",
            "1875/1875 [==============================] - 10s 5ms/step - loss: 0.0142 - accuracy: 0.9964\n",
            "313/313 [==============================] - 1s 3ms/step - loss: 0.0639 - accuracy: 0.9812\n",
            "Train time for 512 nodes: 142.31371140480042\n",
            "Test loss for 512 nodes: 0.06390715390443802\n",
            "Test accuracy: 0.9811999797821045\n"
          ]
        }
      ]
    },
    {
      "cell_type": "code",
      "source": [
        "acc, t= q1train(2056)\n",
        "acclist.append(acc)\n",
        "timelist.append(t)"
      ],
      "metadata": {
        "id": "BBj4goHbx-Tl",
        "colab": {
          "base_uri": "https://localhost:8080/"
        },
        "outputId": "c54d4951-5317-4a09-9fd2-d77f351cb72a"
      },
      "execution_count": 15,
      "outputs": [
        {
          "output_type": "stream",
          "name": "stdout",
          "text": [
            "Epoch 1/10\n",
            "1875/1875 [==============================] - 26s 14ms/step - loss: 0.3303 - accuracy: 0.9008\n",
            "Epoch 2/10\n",
            "1875/1875 [==============================] - 25s 14ms/step - loss: 0.1582 - accuracy: 0.9526\n",
            "Epoch 3/10\n",
            "1875/1875 [==============================] - 26s 14ms/step - loss: 0.0973 - accuracy: 0.9704\n",
            "Epoch 4/10\n",
            "1875/1875 [==============================] - 25s 13ms/step - loss: 0.0653 - accuracy: 0.9796\n",
            "Epoch 5/10\n",
            "1875/1875 [==============================] - 26s 14ms/step - loss: 0.0458 - accuracy: 0.9847\n",
            "Epoch 6/10\n",
            "1875/1875 [==============================] - 26s 14ms/step - loss: 0.0317 - accuracy: 0.9904\n",
            "Epoch 7/10\n",
            "1875/1875 [==============================] - 26s 14ms/step - loss: 0.0224 - accuracy: 0.9931\n",
            "Epoch 8/10\n",
            "1875/1875 [==============================] - 26s 14ms/step - loss: 0.0162 - accuracy: 0.9953\n",
            "Epoch 9/10\n",
            "1875/1875 [==============================] - 26s 14ms/step - loss: 0.0116 - accuracy: 0.9967\n",
            "Epoch 10/10\n",
            "1875/1875 [==============================] - 26s 14ms/step - loss: 0.0097 - accuracy: 0.9972\n",
            "313/313 [==============================] - 2s 6ms/step - loss: 0.0689 - accuracy: 0.9818\n",
            "Train time for 2056 nodes: 256.46681332588196\n",
            "Test loss for 2056 nodes: 0.06888137012720108\n",
            "Test accuracy: 0.9818000197410583\n"
          ]
        }
      ]
    },
    {
      "cell_type": "code",
      "source": [
        "nodelist= [4, 32, 128, 512, 2056]\n",
        "for i, j, k in zip(nodelist, acclist, timelist):\n",
        "  print(\"nodes:\", i, \"| accuracy: %.2f\" %(j*100), \"| time for training: %.2f\" %k)"
      ],
      "metadata": {
        "colab": {
          "base_uri": "https://localhost:8080/"
        },
        "id": "9p9h1_fuKHs_",
        "outputId": "c5be6dd5-07d2-4c5e-8b91-1b005d0b9833"
      },
      "execution_count": 16,
      "outputs": [
        {
          "output_type": "stream",
          "name": "stdout",
          "text": [
            "nodes: 4 | accuracy: 81.21 | time for training: 40.07\n",
            "nodes: 32 | accuracy: 95.89 | time for training: 82.33\n",
            "nodes: 128 | accuracy: 97.79 | time for training: 82.39\n",
            "nodes: 512 | accuracy: 98.12 | time for training: 142.31\n",
            "nodes: 2056 | accuracy: 98.18 | time for training: 256.47\n"
          ]
        }
      ]
    },
    {
      "cell_type": "markdown",
      "source": [
        "## 2: Number of layers"
      ],
      "metadata": {
        "id": "5-8LK-BZRpX8"
      }
    },
    {
      "cell_type": "markdown",
      "source": [
        "### 10 epochs"
      ],
      "metadata": {
        "id": "2SqvM5cPZsyY"
      }
    },
    {
      "cell_type": "code",
      "source": [
        "def q2train(layers, ep):\n",
        "  model = Sequential()\n",
        "  model.add(Dense(32, activation='sigmoid', input_shape=(784,)))\n",
        "  for i in range(layers):\n",
        "    model.add(Dense(32, activation='sigmoid'))\n",
        "  model.add(Dense(10, activation='softmax'))\n",
        "  model.compile(loss='categorical_crossentropy', optimizer=Adam(), metrics=['accuracy'])\n",
        "  start= time.time()\n",
        "  history = model.fit(x_train, y_train, epochs= ep)\n",
        "  end= time.time()\n",
        "  score = model.evaluate(x_test, y_test)\n",
        "  print(\"Train time for\", layers, \"layers:\", (end-start))\n",
        "  print('Test loss for', layers, \"layers:\", score[0])\n",
        "  print('Test accuracy:', score[1])\n",
        "  return score[1], (end-start)"
      ],
      "metadata": {
        "id": "c_of_hzQRxp8"
      },
      "execution_count": 17,
      "outputs": []
    },
    {
      "cell_type": "code",
      "source": [
        "acclist= []\n",
        "timelist= []"
      ],
      "metadata": {
        "id": "Ai8AxrEQS4Yb"
      },
      "execution_count": 18,
      "outputs": []
    },
    {
      "cell_type": "code",
      "source": [
        "acc, t= q2train(4, 10)\n",
        "acclist.append(acc)\n",
        "timelist.append(t)"
      ],
      "metadata": {
        "colab": {
          "base_uri": "https://localhost:8080/"
        },
        "id": "z2ROLXTGSREj",
        "outputId": "738be150-99e7-4e18-ea53-4183d4ebef12"
      },
      "execution_count": 19,
      "outputs": [
        {
          "output_type": "stream",
          "name": "stdout",
          "text": [
            "Epoch 1/10\n",
            "1875/1875 [==============================] - 5s 2ms/step - loss: 1.2582 - accuracy: 0.5906\n",
            "Epoch 2/10\n",
            "1875/1875 [==============================] - 5s 2ms/step - loss: 0.5052 - accuracy: 0.8598\n",
            "Epoch 3/10\n",
            "1875/1875 [==============================] - 5s 2ms/step - loss: 0.3405 - accuracy: 0.9143\n",
            "Epoch 4/10\n",
            "1875/1875 [==============================] - 7s 4ms/step - loss: 0.2806 - accuracy: 0.9287\n",
            "Epoch 5/10\n",
            "1875/1875 [==============================] - 5s 3ms/step - loss: 0.2448 - accuracy: 0.9365\n",
            "Epoch 6/10\n",
            "1875/1875 [==============================] - 5s 3ms/step - loss: 0.2177 - accuracy: 0.9434\n",
            "Epoch 7/10\n",
            "1875/1875 [==============================] - 5s 2ms/step - loss: 0.1957 - accuracy: 0.9479\n",
            "Epoch 8/10\n",
            "1875/1875 [==============================] - 5s 2ms/step - loss: 0.1779 - accuracy: 0.9520\n",
            "Epoch 9/10\n",
            "1875/1875 [==============================] - 5s 2ms/step - loss: 0.1629 - accuracy: 0.9551\n",
            "Epoch 10/10\n",
            "1875/1875 [==============================] - 6s 3ms/step - loss: 0.1505 - accuracy: 0.9587\n",
            "313/313 [==============================] - 1s 2ms/step - loss: 0.2073 - accuracy: 0.9421\n",
            "Train time for 4 layers: 51.212414264678955\n",
            "Test loss for 4 layers: 0.2072710245847702\n",
            "Test accuracy: 0.9420999884605408\n"
          ]
        }
      ]
    },
    {
      "cell_type": "code",
      "source": [
        "acc, t= q2train(6, 10)\n",
        "acclist.append(acc)\n",
        "timelist.append(t)"
      ],
      "metadata": {
        "colab": {
          "base_uri": "https://localhost:8080/"
        },
        "id": "UKPjPw-JS-o5",
        "outputId": "e7aeb573-422f-41eb-a981-704d5aa4321e"
      },
      "execution_count": 20,
      "outputs": [
        {
          "output_type": "stream",
          "name": "stdout",
          "text": [
            "Epoch 1/10\n",
            "1875/1875 [==============================] - 6s 3ms/step - loss: 1.7173 - accuracy: 0.2978\n",
            "Epoch 2/10\n",
            "1875/1875 [==============================] - 5s 3ms/step - loss: 1.0931 - accuracy: 0.5548\n",
            "Epoch 3/10\n",
            "1875/1875 [==============================] - 5s 3ms/step - loss: 0.8666 - accuracy: 0.6401\n",
            "Epoch 4/10\n",
            "1875/1875 [==============================] - 5s 3ms/step - loss: 0.6176 - accuracy: 0.8012\n",
            "Epoch 5/10\n",
            "1875/1875 [==============================] - 5s 3ms/step - loss: 0.3710 - accuracy: 0.9095\n",
            "Epoch 6/10\n",
            "1875/1875 [==============================] - 5s 3ms/step - loss: 0.2961 - accuracy: 0.9253\n",
            "Epoch 7/10\n",
            "1875/1875 [==============================] - 5s 3ms/step - loss: 0.2594 - accuracy: 0.9344\n",
            "Epoch 8/10\n",
            "1875/1875 [==============================] - 5s 3ms/step - loss: 0.2393 - accuracy: 0.9394\n",
            "Epoch 9/10\n",
            "1875/1875 [==============================] - 5s 3ms/step - loss: 0.2233 - accuracy: 0.9434\n",
            "Epoch 10/10\n",
            "1875/1875 [==============================] - 5s 3ms/step - loss: 0.2111 - accuracy: 0.9463\n",
            "313/313 [==============================] - 1s 2ms/step - loss: 0.2643 - accuracy: 0.9320\n",
            "Train time for 6 layers: 82.54269552230835\n",
            "Test loss for 6 layers: 0.26425570249557495\n",
            "Test accuracy: 0.9319999814033508\n"
          ]
        }
      ]
    },
    {
      "cell_type": "code",
      "source": [
        "acc, t= q2train(8, 10)\n",
        "acclist.append(acc)\n",
        "timelist.append(t)"
      ],
      "metadata": {
        "colab": {
          "base_uri": "https://localhost:8080/"
        },
        "id": "cBk7-FpKTyY1",
        "outputId": "a9f1dca7-e924-4842-e821-48755a784ddc"
      },
      "execution_count": 21,
      "outputs": [
        {
          "output_type": "stream",
          "name": "stdout",
          "text": [
            "Epoch 1/10\n",
            "1875/1875 [==============================] - 6s 3ms/step - loss: 1.9637 - accuracy: 0.1749\n",
            "Epoch 2/10\n",
            "1875/1875 [==============================] - 6s 3ms/step - loss: 1.7119 - accuracy: 0.2359\n",
            "Epoch 3/10\n",
            "1875/1875 [==============================] - 6s 3ms/step - loss: 1.2954 - accuracy: 0.4576\n",
            "Epoch 4/10\n",
            "1875/1875 [==============================] - 5s 3ms/step - loss: 0.9668 - accuracy: 0.6324\n",
            "Epoch 5/10\n",
            "1875/1875 [==============================] - 6s 3ms/step - loss: 0.8360 - accuracy: 0.6788\n",
            "Epoch 6/10\n",
            "1875/1875 [==============================] - 6s 3ms/step - loss: 0.7633 - accuracy: 0.6980\n",
            "Epoch 7/10\n",
            "1875/1875 [==============================] - 6s 3ms/step - loss: 0.7230 - accuracy: 0.7101\n",
            "Epoch 8/10\n",
            "1875/1875 [==============================] - 6s 3ms/step - loss: 0.6960 - accuracy: 0.7180\n",
            "Epoch 9/10\n",
            "1875/1875 [==============================] - 6s 3ms/step - loss: 0.6746 - accuracy: 0.7268\n",
            "Epoch 10/10\n",
            "1875/1875 [==============================] - 6s 3ms/step - loss: 0.6594 - accuracy: 0.7306\n",
            "313/313 [==============================] - 1s 2ms/step - loss: 0.6869 - accuracy: 0.7229\n",
            "Train time for 8 layers: 56.824201822280884\n",
            "Test loss for 8 layers: 0.6869305372238159\n",
            "Test accuracy: 0.7228999733924866\n"
          ]
        }
      ]
    },
    {
      "cell_type": "code",
      "source": [
        "acc, t= q2train(16, 10)\n",
        "acclist.append(acc)\n",
        "timelist.append(t)"
      ],
      "metadata": {
        "colab": {
          "base_uri": "https://localhost:8080/"
        },
        "id": "ctC7VPNYT0Un",
        "outputId": "aaf67cea-dfab-40b1-fda3-94bf4161b629"
      },
      "execution_count": 22,
      "outputs": [
        {
          "output_type": "stream",
          "name": "stdout",
          "text": [
            "Epoch 1/10\n",
            "1875/1875 [==============================] - 8s 4ms/step - loss: 2.3066 - accuracy: 0.1072\n",
            "Epoch 2/10\n",
            "1875/1875 [==============================] - 7s 4ms/step - loss: 2.3039 - accuracy: 0.1079\n",
            "Epoch 3/10\n",
            "1875/1875 [==============================] - 7s 4ms/step - loss: 2.3038 - accuracy: 0.1073\n",
            "Epoch 4/10\n",
            "1875/1875 [==============================] - 7s 4ms/step - loss: 2.3033 - accuracy: 0.1066\n",
            "Epoch 5/10\n",
            "1875/1875 [==============================] - 7s 4ms/step - loss: 2.3031 - accuracy: 0.1088\n",
            "Epoch 6/10\n",
            "1875/1875 [==============================] - 7s 4ms/step - loss: 2.3025 - accuracy: 0.1098\n",
            "Epoch 7/10\n",
            "1875/1875 [==============================] - 7s 4ms/step - loss: 2.3023 - accuracy: 0.1098\n",
            "Epoch 8/10\n",
            "1875/1875 [==============================] - 7s 4ms/step - loss: 2.3017 - accuracy: 0.1109\n",
            "Epoch 9/10\n",
            "1875/1875 [==============================] - 7s 4ms/step - loss: 2.3016 - accuracy: 0.1121\n",
            "Epoch 10/10\n",
            "1875/1875 [==============================] - 7s 4ms/step - loss: 2.3015 - accuracy: 0.1124\n",
            "313/313 [==============================] - 1s 2ms/step - loss: 2.3012 - accuracy: 0.1135\n",
            "Train time for 16 layers: 74.01191115379333\n",
            "Test loss for 16 layers: 2.3012049198150635\n",
            "Test accuracy: 0.11349999904632568\n"
          ]
        }
      ]
    },
    {
      "cell_type": "code",
      "source": [
        "al2= []\n",
        "tl2= []"
      ],
      "metadata": {
        "id": "bs7_fXe4aCzw"
      },
      "execution_count": 23,
      "outputs": []
    },
    {
      "cell_type": "markdown",
      "source": [
        "### 30 epochs"
      ],
      "metadata": {
        "id": "Q_7rK2rttqUW"
      }
    },
    {
      "cell_type": "code",
      "source": [
        "acc, t= q2train(4, 30)\n",
        "al2.append(acc)\n",
        "tl2.append(t)"
      ],
      "metadata": {
        "colab": {
          "base_uri": "https://localhost:8080/"
        },
        "id": "w6cdQorrZ-9G",
        "outputId": "9f91895f-ea0f-411f-e054-6409e5561392"
      },
      "execution_count": 24,
      "outputs": [
        {
          "output_type": "stream",
          "name": "stdout",
          "text": [
            "Epoch 1/30\n",
            "1875/1875 [==============================] - 5s 2ms/step - loss: 1.4850 - accuracy: 0.4600\n",
            "Epoch 2/30\n",
            "1875/1875 [==============================] - 5s 2ms/step - loss: 0.4808 - accuracy: 0.8910\n",
            "Epoch 3/30\n",
            "1875/1875 [==============================] - 5s 2ms/step - loss: 0.2773 - accuracy: 0.9278\n",
            "Epoch 4/30\n",
            "1875/1875 [==============================] - 5s 2ms/step - loss: 0.2236 - accuracy: 0.9408\n",
            "Epoch 5/30\n",
            "1875/1875 [==============================] - 5s 2ms/step - loss: 0.1956 - accuracy: 0.9471\n",
            "Epoch 6/30\n",
            "1875/1875 [==============================] - 5s 2ms/step - loss: 0.1746 - accuracy: 0.9527\n",
            "Epoch 7/30\n",
            "1875/1875 [==============================] - 5s 2ms/step - loss: 0.1591 - accuracy: 0.9561\n",
            "Epoch 8/30\n",
            "1875/1875 [==============================] - 5s 2ms/step - loss: 0.1457 - accuracy: 0.9600\n",
            "Epoch 9/30\n",
            "1875/1875 [==============================] - 5s 2ms/step - loss: 0.1357 - accuracy: 0.9627\n",
            "Epoch 10/30\n",
            "1875/1875 [==============================] - 5s 2ms/step - loss: 0.1266 - accuracy: 0.9649\n",
            "Epoch 11/30\n",
            "1875/1875 [==============================] - 4s 2ms/step - loss: 0.1180 - accuracy: 0.9676\n",
            "Epoch 12/30\n",
            "1875/1875 [==============================] - 5s 2ms/step - loss: 0.1122 - accuracy: 0.9683\n",
            "Epoch 13/30\n",
            "1875/1875 [==============================] - 5s 2ms/step - loss: 0.1046 - accuracy: 0.9705\n",
            "Epoch 14/30\n",
            "1875/1875 [==============================] - 5s 2ms/step - loss: 0.0996 - accuracy: 0.9720\n",
            "Epoch 15/30\n",
            "1875/1875 [==============================] - 5s 2ms/step - loss: 0.0952 - accuracy: 0.9734\n",
            "Epoch 16/30\n",
            "1875/1875 [==============================] - 5s 2ms/step - loss: 0.0913 - accuracy: 0.9750\n",
            "Epoch 17/30\n",
            "1875/1875 [==============================] - 5s 2ms/step - loss: 0.0862 - accuracy: 0.9757\n",
            "Epoch 18/30\n",
            "1875/1875 [==============================] - 5s 2ms/step - loss: 0.0826 - accuracy: 0.9768\n",
            "Epoch 19/30\n",
            "1875/1875 [==============================] - 5s 3ms/step - loss: 0.0789 - accuracy: 0.9776\n",
            "Epoch 20/30\n",
            "1875/1875 [==============================] - 5s 2ms/step - loss: 0.0763 - accuracy: 0.9783\n",
            "Epoch 21/30\n",
            "1875/1875 [==============================] - 5s 2ms/step - loss: 0.0718 - accuracy: 0.9800\n",
            "Epoch 22/30\n",
            "1875/1875 [==============================] - 5s 3ms/step - loss: 0.0703 - accuracy: 0.9799\n",
            "Epoch 23/30\n",
            "1875/1875 [==============================] - 5s 3ms/step - loss: 0.0685 - accuracy: 0.9807\n",
            "Epoch 24/30\n",
            "1875/1875 [==============================] - 5s 3ms/step - loss: 0.0654 - accuracy: 0.9813\n",
            "Epoch 25/30\n",
            "1875/1875 [==============================] - 5s 3ms/step - loss: 0.0624 - accuracy: 0.9825\n",
            "Epoch 26/30\n",
            "1875/1875 [==============================] - 5s 3ms/step - loss: 0.0606 - accuracy: 0.9832\n",
            "Epoch 27/30\n",
            "1875/1875 [==============================] - 5s 3ms/step - loss: 0.0598 - accuracy: 0.9833\n",
            "Epoch 28/30\n",
            "1875/1875 [==============================] - 5s 3ms/step - loss: 0.0568 - accuracy: 0.9841\n",
            "Epoch 29/30\n",
            "1875/1875 [==============================] - 5s 3ms/step - loss: 0.0557 - accuracy: 0.9844\n",
            "Epoch 30/30\n",
            "1875/1875 [==============================] - 5s 3ms/step - loss: 0.0519 - accuracy: 0.9855\n",
            "313/313 [==============================] - 1s 2ms/step - loss: 0.1954 - accuracy: 0.9552\n",
            "Train time for 4 layers: 142.46248388290405\n",
            "Test loss for 4 layers: 0.19535961747169495\n",
            "Test accuracy: 0.9552000164985657\n"
          ]
        }
      ]
    },
    {
      "cell_type": "code",
      "source": [
        "acc, t= q2train(6, 30)\n",
        "al2.append(acc)\n",
        "tl2.append(t)"
      ],
      "metadata": {
        "colab": {
          "base_uri": "https://localhost:8080/"
        },
        "id": "zUYGl0kFaHUE",
        "outputId": "f84da197-ff57-4bdc-c626-885de9d3bef5"
      },
      "execution_count": 25,
      "outputs": [
        {
          "output_type": "stream",
          "name": "stdout",
          "text": [
            "Epoch 1/30\n",
            "1875/1875 [==============================] - 6s 3ms/step - loss: 1.7872 - accuracy: 0.2763\n",
            "Epoch 2/30\n",
            "1875/1875 [==============================] - 6s 3ms/step - loss: 1.1503 - accuracy: 0.5396\n",
            "Epoch 3/30\n",
            "1875/1875 [==============================] - 5s 3ms/step - loss: 0.9229 - accuracy: 0.6839\n",
            "Epoch 4/30\n",
            "1875/1875 [==============================] - 5s 3ms/step - loss: 0.7459 - accuracy: 0.7814\n",
            "Epoch 5/30\n",
            "1875/1875 [==============================] - 5s 3ms/step - loss: 0.6227 - accuracy: 0.8401\n",
            "Epoch 6/30\n",
            "1875/1875 [==============================] - 7s 4ms/step - loss: 0.5416 - accuracy: 0.8644\n",
            "Epoch 7/30\n",
            "1875/1875 [==============================] - 5s 3ms/step - loss: 0.4934 - accuracy: 0.8789\n",
            "Epoch 8/30\n",
            "1875/1875 [==============================] - 5s 3ms/step - loss: 0.4595 - accuracy: 0.8882\n",
            "Epoch 9/30\n",
            "1875/1875 [==============================] - 5s 3ms/step - loss: 0.4369 - accuracy: 0.8960\n",
            "Epoch 10/30\n",
            "1875/1875 [==============================] - 7s 4ms/step - loss: 0.4127 - accuracy: 0.9019\n",
            "Epoch 11/30\n",
            "1875/1875 [==============================] - 5s 3ms/step - loss: 0.3869 - accuracy: 0.9076\n",
            "Epoch 12/30\n",
            "1875/1875 [==============================] - 5s 3ms/step - loss: 0.3625 - accuracy: 0.9138\n",
            "Epoch 13/30\n",
            "1875/1875 [==============================] - 5s 3ms/step - loss: 0.3393 - accuracy: 0.9190\n",
            "Epoch 14/30\n",
            "1875/1875 [==============================] - 5s 3ms/step - loss: 0.3170 - accuracy: 0.9239\n",
            "Epoch 15/30\n",
            "1875/1875 [==============================] - 5s 3ms/step - loss: 0.2960 - accuracy: 0.9290\n",
            "Epoch 16/30\n",
            "1875/1875 [==============================] - 5s 3ms/step - loss: 0.2805 - accuracy: 0.9329\n",
            "Epoch 17/30\n",
            "1875/1875 [==============================] - 5s 3ms/step - loss: 0.2651 - accuracy: 0.9372\n",
            "Epoch 18/30\n",
            "1875/1875 [==============================] - 5s 3ms/step - loss: 0.2558 - accuracy: 0.9385\n",
            "Epoch 19/30\n",
            "1875/1875 [==============================] - 5s 3ms/step - loss: 0.2410 - accuracy: 0.9416\n",
            "Epoch 20/30\n",
            "1875/1875 [==============================] - 5s 3ms/step - loss: 0.2324 - accuracy: 0.9432\n",
            "Epoch 21/30\n",
            "1875/1875 [==============================] - 5s 3ms/step - loss: 0.2205 - accuracy: 0.9462\n",
            "Epoch 22/30\n",
            "1875/1875 [==============================] - 5s 3ms/step - loss: 0.2154 - accuracy: 0.9476\n",
            "Epoch 23/30\n",
            "1875/1875 [==============================] - 5s 3ms/step - loss: 0.2047 - accuracy: 0.9498\n",
            "Epoch 24/30\n",
            "1875/1875 [==============================] - 5s 3ms/step - loss: 0.1965 - accuracy: 0.9523\n",
            "Epoch 25/30\n",
            "1875/1875 [==============================] - 5s 3ms/step - loss: 0.1906 - accuracy: 0.9528\n",
            "Epoch 26/30\n",
            "1875/1875 [==============================] - 5s 3ms/step - loss: 0.1858 - accuracy: 0.9546\n",
            "Epoch 27/30\n",
            "1875/1875 [==============================] - 5s 3ms/step - loss: 0.1815 - accuracy: 0.9553\n",
            "Epoch 28/30\n",
            "1875/1875 [==============================] - 5s 3ms/step - loss: 0.1740 - accuracy: 0.9568\n",
            "Epoch 29/30\n",
            "1875/1875 [==============================] - 5s 3ms/step - loss: 0.1697 - accuracy: 0.9579\n",
            "Epoch 30/30\n",
            "1875/1875 [==============================] - 5s 3ms/step - loss: 0.1656 - accuracy: 0.9594\n",
            "313/313 [==============================] - 1s 2ms/step - loss: 0.2574 - accuracy: 0.9402\n",
            "Train time for 6 layers: 158.9511489868164\n",
            "Test loss for 6 layers: 0.2574287950992584\n",
            "Test accuracy: 0.9401999711990356\n"
          ]
        }
      ]
    },
    {
      "cell_type": "code",
      "source": [
        "acc, t= q2train(8, 30)\n",
        "al2.append(acc)\n",
        "tl2.append(t)"
      ],
      "metadata": {
        "colab": {
          "base_uri": "https://localhost:8080/"
        },
        "id": "5xGHUDlRaIg4",
        "outputId": "fd58dc69-76cb-4a2e-a787-4377fec9a93b"
      },
      "execution_count": 26,
      "outputs": [
        {
          "output_type": "stream",
          "name": "stdout",
          "text": [
            "Epoch 1/30\n",
            "1875/1875 [==============================] - 6s 3ms/step - loss: 1.9982 - accuracy: 0.1781\n",
            "Epoch 2/30\n",
            "1875/1875 [==============================] - 6s 3ms/step - loss: 1.5481 - accuracy: 0.3192\n",
            "Epoch 3/30\n",
            "1875/1875 [==============================] - 6s 3ms/step - loss: 1.1450 - accuracy: 0.5179\n",
            "Epoch 4/30\n",
            "1875/1875 [==============================] - 5s 3ms/step - loss: 0.9577 - accuracy: 0.5984\n",
            "Epoch 5/30\n",
            "1875/1875 [==============================] - 5s 3ms/step - loss: 0.8418 - accuracy: 0.6714\n",
            "Epoch 6/30\n",
            "1875/1875 [==============================] - 5s 3ms/step - loss: 0.7466 - accuracy: 0.7094\n",
            "Epoch 7/30\n",
            "1875/1875 [==============================] - 5s 3ms/step - loss: 0.7055 - accuracy: 0.7202\n",
            "Epoch 8/30\n",
            "1875/1875 [==============================] - 5s 3ms/step - loss: 0.6818 - accuracy: 0.7246\n",
            "Epoch 9/30\n",
            "1875/1875 [==============================] - 6s 3ms/step - loss: 0.6648 - accuracy: 0.7303\n",
            "Epoch 10/30\n",
            "1875/1875 [==============================] - 6s 3ms/step - loss: 0.6520 - accuracy: 0.7339\n",
            "Epoch 11/30\n",
            "1875/1875 [==============================] - 5s 3ms/step - loss: 0.6462 - accuracy: 0.7356\n",
            "Epoch 12/30\n",
            "1875/1875 [==============================] - 5s 3ms/step - loss: 0.6372 - accuracy: 0.7387\n",
            "Epoch 13/30\n",
            "1875/1875 [==============================] - 5s 3ms/step - loss: 0.6293 - accuracy: 0.7436\n",
            "Epoch 14/30\n",
            "1875/1875 [==============================] - 5s 3ms/step - loss: 0.6193 - accuracy: 0.7441\n",
            "Epoch 15/30\n",
            "1875/1875 [==============================] - 5s 3ms/step - loss: 0.6154 - accuracy: 0.7470\n",
            "Epoch 16/30\n",
            "1875/1875 [==============================] - 5s 3ms/step - loss: 0.6060 - accuracy: 0.7494\n",
            "Epoch 17/30\n",
            "1875/1875 [==============================] - 5s 3ms/step - loss: 0.6019 - accuracy: 0.7530\n",
            "Epoch 18/30\n",
            "1875/1875 [==============================] - 5s 3ms/step - loss: 0.5941 - accuracy: 0.7557\n",
            "Epoch 19/30\n",
            "1875/1875 [==============================] - 5s 3ms/step - loss: 0.5847 - accuracy: 0.7635\n",
            "Epoch 20/30\n",
            "1875/1875 [==============================] - 6s 3ms/step - loss: 0.5761 - accuracy: 0.7775\n",
            "Epoch 21/30\n",
            "1875/1875 [==============================] - 5s 3ms/step - loss: 0.5330 - accuracy: 0.8155\n",
            "Epoch 22/30\n",
            "1875/1875 [==============================] - 5s 3ms/step - loss: 0.4625 - accuracy: 0.8393\n",
            "Epoch 23/30\n",
            "1875/1875 [==============================] - 5s 3ms/step - loss: 0.4368 - accuracy: 0.8462\n",
            "Epoch 24/30\n",
            "1875/1875 [==============================] - 5s 3ms/step - loss: 0.4269 - accuracy: 0.8493\n",
            "Epoch 25/30\n",
            "1875/1875 [==============================] - 6s 3ms/step - loss: 0.4150 - accuracy: 0.8547\n",
            "Epoch 26/30\n",
            "1875/1875 [==============================] - 5s 3ms/step - loss: 0.4068 - accuracy: 0.8619\n",
            "Epoch 27/30\n",
            "1875/1875 [==============================] - 6s 3ms/step - loss: 0.3895 - accuracy: 0.8745\n",
            "Epoch 28/30\n",
            "1875/1875 [==============================] - 7s 4ms/step - loss: 0.3728 - accuracy: 0.8956\n",
            "Epoch 29/30\n",
            "1875/1875 [==============================] - 6s 3ms/step - loss: 0.3433 - accuracy: 0.9146\n",
            "Epoch 30/30\n",
            "1875/1875 [==============================] - 5s 3ms/step - loss: 0.3244 - accuracy: 0.9229\n",
            "313/313 [==============================] - 1s 2ms/step - loss: 0.4012 - accuracy: 0.9106\n",
            "Train time for 8 layers: 165.35345196723938\n",
            "Test loss for 8 layers: 0.4011881947517395\n",
            "Test accuracy: 0.9106000065803528\n"
          ]
        }
      ]
    },
    {
      "cell_type": "code",
      "source": [
        "acc, t= q2train(16, 30)\n",
        "al2.append(acc)\n",
        "tl2.append(t)"
      ],
      "metadata": {
        "colab": {
          "base_uri": "https://localhost:8080/"
        },
        "id": "EvJOX2xoaJlo",
        "outputId": "5492ff04-bb11-4fc8-af06-f4a73e038e4b"
      },
      "execution_count": 27,
      "outputs": [
        {
          "output_type": "stream",
          "name": "stdout",
          "text": [
            "Epoch 1/30\n",
            "1875/1875 [==============================] - 8s 4ms/step - loss: 2.3050 - accuracy: 0.1079\n",
            "Epoch 2/30\n",
            "1875/1875 [==============================] - 7s 4ms/step - loss: 2.3042 - accuracy: 0.1084\n",
            "Epoch 3/30\n",
            "1875/1875 [==============================] - 7s 4ms/step - loss: 2.3036 - accuracy: 0.1079\n",
            "Epoch 4/30\n",
            "1875/1875 [==============================] - 7s 4ms/step - loss: 2.3034 - accuracy: 0.1088\n",
            "Epoch 5/30\n",
            "1875/1875 [==============================] - 7s 4ms/step - loss: 2.3030 - accuracy: 0.1064\n",
            "Epoch 6/30\n",
            "1875/1875 [==============================] - 8s 4ms/step - loss: 2.3026 - accuracy: 0.1100\n",
            "Epoch 7/30\n",
            "1875/1875 [==============================] - 7s 4ms/step - loss: 2.3024 - accuracy: 0.1104\n",
            "Epoch 8/30\n",
            "1875/1875 [==============================] - 7s 4ms/step - loss: 2.3022 - accuracy: 0.1102\n",
            "Epoch 9/30\n",
            "1875/1875 [==============================] - 7s 4ms/step - loss: 2.3019 - accuracy: 0.1107\n",
            "Epoch 10/30\n",
            "1875/1875 [==============================] - 7s 4ms/step - loss: 2.3017 - accuracy: 0.1121\n",
            "Epoch 11/30\n",
            "1875/1875 [==============================] - 7s 4ms/step - loss: 2.3015 - accuracy: 0.1124\n",
            "Epoch 12/30\n",
            "1875/1875 [==============================] - 7s 4ms/step - loss: 2.3015 - accuracy: 0.1124\n",
            "Epoch 13/30\n",
            "1875/1875 [==============================] - 7s 4ms/step - loss: 2.3014 - accuracy: 0.1124\n",
            "Epoch 14/30\n",
            "1875/1875 [==============================] - 7s 4ms/step - loss: 2.3014 - accuracy: 0.1124\n",
            "Epoch 15/30\n",
            "1875/1875 [==============================] - 7s 4ms/step - loss: 2.3014 - accuracy: 0.1124\n",
            "Epoch 16/30\n",
            "1875/1875 [==============================] - 7s 4ms/step - loss: 2.3013 - accuracy: 0.1124\n",
            "Epoch 17/30\n",
            "1875/1875 [==============================] - 7s 4ms/step - loss: 2.3014 - accuracy: 0.1124\n",
            "Epoch 18/30\n",
            "1875/1875 [==============================] - 10s 5ms/step - loss: 2.3014 - accuracy: 0.1124\n",
            "Epoch 19/30\n",
            "1875/1875 [==============================] - 7s 4ms/step - loss: 2.3013 - accuracy: 0.1124\n",
            "Epoch 20/30\n",
            "1875/1875 [==============================] - 7s 4ms/step - loss: 2.3014 - accuracy: 0.1124\n",
            "Epoch 21/30\n",
            "1875/1875 [==============================] - 7s 4ms/step - loss: 2.3013 - accuracy: 0.1124\n",
            "Epoch 22/30\n",
            "1875/1875 [==============================] - 7s 4ms/step - loss: 2.3014 - accuracy: 0.1124\n",
            "Epoch 23/30\n",
            "1875/1875 [==============================] - 7s 4ms/step - loss: 2.3013 - accuracy: 0.1124\n",
            "Epoch 24/30\n",
            "1875/1875 [==============================] - 7s 4ms/step - loss: 2.3014 - accuracy: 0.1124\n",
            "Epoch 25/30\n",
            "1875/1875 [==============================] - 7s 4ms/step - loss: 2.3013 - accuracy: 0.1124\n",
            "Epoch 26/30\n",
            "1875/1875 [==============================] - 7s 4ms/step - loss: 2.3013 - accuracy: 0.1124\n",
            "Epoch 27/30\n",
            "1875/1875 [==============================] - 7s 4ms/step - loss: 2.3014 - accuracy: 0.1124\n",
            "Epoch 28/30\n",
            "1875/1875 [==============================] - 7s 4ms/step - loss: 2.3014 - accuracy: 0.1124\n",
            "Epoch 29/30\n",
            "1875/1875 [==============================] - 7s 4ms/step - loss: 2.3014 - accuracy: 0.1124\n",
            "Epoch 30/30\n",
            "1875/1875 [==============================] - 7s 4ms/step - loss: 2.3014 - accuracy: 0.1124\n",
            "313/313 [==============================] - 1s 2ms/step - loss: 2.3011 - accuracy: 0.1135\n",
            "Train time for 16 layers: 218.64085817337036\n",
            "Test loss for 16 layers: 2.3011014461517334\n",
            "Test accuracy: 0.11349999904632568\n"
          ]
        }
      ]
    },
    {
      "cell_type": "code",
      "source": [
        "layerlist= [4, 6, 8, 16]\n",
        "for i, j, k in zip(layerlist, acclist, timelist):\n",
        "  print(\"layers:\", i, \"| accuracy: %.2f\" %(j*100), \"| time for training: %.2f\" %k, \"| epochs: 10\")\n",
        "\n",
        "for i, j, k in zip(layerlist, al2, tl2):\n",
        "  print(\"layers:\", i, \"| accuracy: %.2f\" %(j*100), \"| time for training: %.2f\" %k, \"| epochs: 30\")"
      ],
      "metadata": {
        "colab": {
          "base_uri": "https://localhost:8080/"
        },
        "id": "PogBCBkQT4h4",
        "outputId": "91992a4b-48a3-44a1-f0cf-c6e57e84f257"
      },
      "execution_count": 28,
      "outputs": [
        {
          "output_type": "stream",
          "name": "stdout",
          "text": [
            "layers: 4 | accuracy: 94.21 | time for training: 51.21 | epochs: 10\n",
            "layers: 6 | accuracy: 93.20 | time for training: 82.54 | epochs: 10\n",
            "layers: 8 | accuracy: 72.29 | time for training: 56.82 | epochs: 10\n",
            "layers: 16 | accuracy: 11.35 | time for training: 74.01 | epochs: 10\n",
            "layers: 4 | accuracy: 95.52 | time for training: 142.46 | epochs: 30\n",
            "layers: 6 | accuracy: 94.02 | time for training: 158.95 | epochs: 30\n",
            "layers: 8 | accuracy: 91.06 | time for training: 165.35 | epochs: 30\n",
            "layers: 16 | accuracy: 11.35 | time for training: 218.64 | epochs: 30\n"
          ]
        }
      ]
    },
    {
      "cell_type": "markdown",
      "source": [
        "## 3: Layer-node combinations"
      ],
      "metadata": {
        "id": "BLI0NAKYWGpZ"
      }
    },
    {
      "cell_type": "code",
      "source": [
        "model = Sequential()\n",
        "model.add(Dense(256, activation='sigmoid', input_shape=(784,)))\n",
        "model.add(Dense(128, activation='sigmoid'))\n",
        "model.add(Dense(64, activation='sigmoid'))\n",
        "model.add(Dense(32, activation='sigmoid'))\n",
        "model.add(Dense(10, activation='softmax'))\n",
        "model.compile(loss='categorical_crossentropy', optimizer=Adam(), metrics=['accuracy'])\n",
        "start= time.time()\n",
        "history = model.fit(x_train, y_train, epochs= 10)\n",
        "end= time.time()\n",
        "score = model.evaluate(x_test, y_test)\n",
        "print(\"Train time:\", (end-start))\n",
        "print(\"Test loss:\", score[0])\n",
        "print('Test accuracy:', score[1])"
      ],
      "metadata": {
        "colab": {
          "base_uri": "https://localhost:8080/"
        },
        "id": "gAqq1DcvWHce",
        "outputId": "910b5380-6b9c-4eea-b8e3-69a2f7319b28"
      },
      "execution_count": 29,
      "outputs": [
        {
          "output_type": "stream",
          "name": "stdout",
          "text": [
            "Epoch 1/10\n",
            "1875/1875 [==============================] - 8s 4ms/step - loss: 0.6482 - accuracy: 0.8335\n",
            "Epoch 2/10\n",
            "1875/1875 [==============================] - 8s 4ms/step - loss: 0.1933 - accuracy: 0.9485\n",
            "Epoch 3/10\n",
            "1875/1875 [==============================] - 8s 4ms/step - loss: 0.1259 - accuracy: 0.9647\n",
            "Epoch 4/10\n",
            "1875/1875 [==============================] - 8s 4ms/step - loss: 0.0913 - accuracy: 0.9749\n",
            "Epoch 5/10\n",
            "1875/1875 [==============================] - 8s 4ms/step - loss: 0.0710 - accuracy: 0.9795\n",
            "Epoch 6/10\n",
            "1875/1875 [==============================] - 9s 5ms/step - loss: 0.0559 - accuracy: 0.9837\n",
            "Epoch 7/10\n",
            "1875/1875 [==============================] - 8s 4ms/step - loss: 0.0440 - accuracy: 0.9874\n",
            "Epoch 8/10\n",
            "1875/1875 [==============================] - 8s 4ms/step - loss: 0.0358 - accuracy: 0.9894\n",
            "Epoch 9/10\n",
            "1875/1875 [==============================] - 8s 4ms/step - loss: 0.0283 - accuracy: 0.9917\n",
            "Epoch 10/10\n",
            "1875/1875 [==============================] - 8s 4ms/step - loss: 0.0249 - accuracy: 0.9924\n",
            "313/313 [==============================] - 1s 2ms/step - loss: 0.0949 - accuracy: 0.9769\n",
            "Train time: 82.43674492835999\n",
            "Test loss: 0.09490758925676346\n",
            "Test accuracy: 0.9768999814987183\n"
          ]
        }
      ]
    },
    {
      "cell_type": "code",
      "source": [
        "model = Sequential()\n",
        "model.add(Dense(64, activation='sigmoid', input_shape=(784,)))\n",
        "model.add(Dense(128, activation='sigmoid'))\n",
        "model.add(Dense(256, activation='sigmoid'))\n",
        "model.add(Dense(128, activation='sigmoid'))\n",
        "model.add(Dense(64, activation='sigmoid'))\n",
        "model.add(Dense(10, activation='softmax'))\n",
        "model.compile(loss='categorical_crossentropy', optimizer=Adam(), metrics=['accuracy'])\n",
        "start= time.time()\n",
        "history = model.fit(x_train, y_train, epochs= 10)\n",
        "end= time.time()\n",
        "score = model.evaluate(x_test, y_test)\n",
        "print(\"Train time:\", (end-start))\n",
        "print(\"Test loss:\", score[0])\n",
        "print('Test accuracy:', score[1])"
      ],
      "metadata": {
        "colab": {
          "base_uri": "https://localhost:8080/"
        },
        "id": "Zj19ctI7dscL",
        "outputId": "5110f923-a451-479c-96d4-2c2de52341c4"
      },
      "execution_count": 30,
      "outputs": [
        {
          "output_type": "stream",
          "name": "stdout",
          "text": [
            "Epoch 1/10\n",
            "1875/1875 [==============================] - 8s 4ms/step - loss: 0.8183 - accuracy: 0.7221\n",
            "Epoch 2/10\n",
            "1875/1875 [==============================] - 7s 4ms/step - loss: 0.2577 - accuracy: 0.9284\n",
            "Epoch 3/10\n",
            "1875/1875 [==============================] - 7s 4ms/step - loss: 0.1775 - accuracy: 0.9496\n",
            "Epoch 4/10\n",
            "1875/1875 [==============================] - 7s 4ms/step - loss: 0.1399 - accuracy: 0.9599\n",
            "Epoch 5/10\n",
            "1875/1875 [==============================] - 7s 4ms/step - loss: 0.1137 - accuracy: 0.9670\n",
            "Epoch 6/10\n",
            "1875/1875 [==============================] - 7s 4ms/step - loss: 0.0993 - accuracy: 0.9717\n",
            "Epoch 7/10\n",
            "1875/1875 [==============================] - 7s 4ms/step - loss: 0.0852 - accuracy: 0.9753\n",
            "Epoch 8/10\n",
            "1875/1875 [==============================] - 7s 4ms/step - loss: 0.0749 - accuracy: 0.9782\n",
            "Epoch 9/10\n",
            "1875/1875 [==============================] - 7s 4ms/step - loss: 0.0680 - accuracy: 0.9802\n",
            "Epoch 10/10\n",
            "1875/1875 [==============================] - 7s 4ms/step - loss: 0.0613 - accuracy: 0.9820\n",
            "313/313 [==============================] - 1s 2ms/step - loss: 0.1278 - accuracy: 0.9667\n",
            "Train time: 82.46380615234375\n",
            "Test loss: 0.1277986466884613\n",
            "Test accuracy: 0.96670001745224\n"
          ]
        }
      ]
    },
    {
      "cell_type": "code",
      "source": [
        "model = Sequential()\n",
        "model.add(Dense(256, activation='sigmoid', input_shape=(784,)))\n",
        "model.add(Dense(64, activation='sigmoid'))\n",
        "model.add(Dense(256, activation='sigmoid'))\n",
        "model.add(Dense(64, activation='sigmoid'))\n",
        "model.add(Dense(256, activation='sigmoid'))\n",
        "model.add(Dense(10, activation='softmax'))\n",
        "model.compile(loss='categorical_crossentropy', optimizer=Adam(), metrics=['accuracy'])\n",
        "start= time.time()\n",
        "history = model.fit(x_train, y_train, epochs= 10)\n",
        "end= time.time()\n",
        "score = model.evaluate(x_test, y_test)\n",
        "print(\"Train time:\", (end-start))\n",
        "print(\"Test loss:\", score[0])\n",
        "print('Test accuracy:', score[1])"
      ],
      "metadata": {
        "colab": {
          "base_uri": "https://localhost:8080/"
        },
        "id": "RkHXn0JRd9hw",
        "outputId": "2f55d2d0-31d3-4f39-ec55-9a90a48dbf67"
      },
      "execution_count": 31,
      "outputs": [
        {
          "output_type": "stream",
          "name": "stdout",
          "text": [
            "Epoch 1/10\n",
            "1875/1875 [==============================] - 9s 5ms/step - loss: 0.7447 - accuracy: 0.7393\n",
            "Epoch 2/10\n",
            "1875/1875 [==============================] - 9s 5ms/step - loss: 0.1998 - accuracy: 0.9439\n",
            "Epoch 3/10\n",
            "1875/1875 [==============================] - 9s 5ms/step - loss: 0.1336 - accuracy: 0.9622\n",
            "Epoch 4/10\n",
            "1875/1875 [==============================] - 9s 5ms/step - loss: 0.1023 - accuracy: 0.9706\n",
            "Epoch 5/10\n",
            "1875/1875 [==============================] - 9s 5ms/step - loss: 0.0803 - accuracy: 0.9768\n",
            "Epoch 6/10\n",
            "1875/1875 [==============================] - 9s 5ms/step - loss: 0.0645 - accuracy: 0.9812\n",
            "Epoch 7/10\n",
            "1875/1875 [==============================] - 9s 5ms/step - loss: 0.0545 - accuracy: 0.9841\n",
            "Epoch 8/10\n",
            "1875/1875 [==============================] - 9s 5ms/step - loss: 0.0456 - accuracy: 0.9868\n",
            "Epoch 9/10\n",
            "1875/1875 [==============================] - 9s 5ms/step - loss: 0.0383 - accuracy: 0.9885\n",
            "Epoch 10/10\n",
            "1875/1875 [==============================] - 9s 5ms/step - loss: 0.0345 - accuracy: 0.9897\n",
            "313/313 [==============================] - 1s 3ms/step - loss: 0.0912 - accuracy: 0.9753\n",
            "Train time: 89.21560573577881\n",
            "Test loss: 0.09121289104223251\n",
            "Test accuracy: 0.9753000140190125\n"
          ]
        }
      ]
    },
    {
      "cell_type": "code",
      "source": [
        "model = Sequential()\n",
        "model.add(Dense(256, activation='sigmoid', input_shape=(784,)))\n",
        "model.add(Dense(128, activation='sigmoid'))\n",
        "model.add(Dense(64, activation='sigmoid'))\n",
        "model.add(Dense(32, activation='sigmoid'))\n",
        "model.add(Dense(64, activation='sigmoid'))\n",
        "model.add(Dense(128, activation='sigmoid'))\n",
        "model.add(Dense(10, activation='softmax'))\n",
        "model.compile(loss='categorical_crossentropy', optimizer=Adam(), metrics=['accuracy'])\n",
        "start= time.time()\n",
        "history = model.fit(x_train, y_train, epochs= 10)\n",
        "end= time.time()\n",
        "score = model.evaluate(x_test, y_test)\n",
        "print(\"Train time:\", (end-start))\n",
        "print(\"Test loss:\", score[0])\n",
        "print('Test accuracy:', score[1])"
      ],
      "metadata": {
        "colab": {
          "base_uri": "https://localhost:8080/"
        },
        "id": "5yc5EId-eky9",
        "outputId": "c7b36e0c-f746-463d-add8-15c21f86f2f4"
      },
      "execution_count": null,
      "outputs": [
        {
          "output_type": "stream",
          "name": "stdout",
          "text": [
            "Epoch 1/10\n",
            "1875/1875 [==============================] - 8s 4ms/step - loss: 0.9407 - accuracy: 0.6781\n",
            "Epoch 2/10\n",
            "1875/1875 [==============================] - 8s 4ms/step - loss: 0.2866 - accuracy: 0.9316\n",
            "Epoch 3/10\n",
            "1875/1875 [==============================] - 8s 4ms/step - loss: 0.1969 - accuracy: 0.9513\n",
            "Epoch 4/10\n",
            "1875/1875 [==============================] - 8s 4ms/step - loss: 0.1564 - accuracy: 0.9609\n",
            "Epoch 5/10\n",
            "1875/1875 [==============================] - 8s 4ms/step - loss: 0.1292 - accuracy: 0.9674\n",
            "Epoch 6/10\n",
            "1875/1875 [==============================] - 8s 4ms/step - loss: 0.1097 - accuracy: 0.9718\n",
            "Epoch 7/10\n",
            "1875/1875 [==============================] - 8s 4ms/step - loss: 0.0919 - accuracy: 0.9765\n",
            "Epoch 8/10\n",
            "1875/1875 [==============================] - 8s 4ms/step - loss: 0.0793 - accuracy: 0.9794\n",
            "Epoch 9/10\n",
            "1875/1875 [==============================] - 8s 4ms/step - loss: 0.0679 - accuracy: 0.9825\n",
            "Epoch 10/10\n",
            "1875/1875 [==============================] - 8s 4ms/step - loss: 0.0573 - accuracy: 0.9852\n",
            "313/313 [==============================] - 1s 2ms/step - loss: 0.1140 - accuracy: 0.9742\n",
            "Train time: 82.46892786026001\n",
            "Test loss: 0.1139807403087616\n",
            "Test accuracy: 0.9742000102996826\n"
          ]
        }
      ]
    },
    {
      "cell_type": "markdown",
      "source": [
        "## 4: Input size"
      ],
      "metadata": {
        "id": "DEpxY8B5fnUA"
      }
    },
    {
      "cell_type": "code",
      "source": [
        "model = Sequential()\n",
        "model.add(Dense(128, activation='relu', input_shape=(784,)))\n",
        "model.add(Dense(128, activation='relu'))\n",
        "model.add(Dense(128, activation='relu'))\n",
        "model.add(Dense(128, activation='relu'))\n",
        "model.add(Dense(10, activation='softmax'))\n",
        "model.compile(loss='categorical_crossentropy', optimizer=Adam(), metrics=['accuracy'])\n",
        "start= time.time()\n",
        "history = model.fit(x_train, y_train, epochs= 10)\n",
        "end= time.time()\n",
        "score = model.evaluate(x_test, y_test)\n",
        "print(\"Train time:\", (end-start))\n",
        "print(\"Test loss:\", score[0])\n",
        "print('Test accuracy:', score[1])"
      ],
      "metadata": {
        "colab": {
          "base_uri": "https://localhost:8080/"
        },
        "id": "AbmnkzwzfoZo",
        "outputId": "adcd6363-770e-4c08-e138-4c7cb97b9963"
      },
      "execution_count": null,
      "outputs": [
        {
          "output_type": "stream",
          "name": "stdout",
          "text": [
            "Epoch 1/10\n",
            "1875/1875 [==============================] - 7s 3ms/step - loss: 0.2341 - accuracy: 0.9293\n",
            "Epoch 2/10\n",
            "1875/1875 [==============================] - 6s 3ms/step - loss: 0.1065 - accuracy: 0.9676\n",
            "Epoch 3/10\n",
            "1875/1875 [==============================] - 6s 3ms/step - loss: 0.0774 - accuracy: 0.9759\n",
            "Epoch 4/10\n",
            "1875/1875 [==============================] - 6s 3ms/step - loss: 0.0624 - accuracy: 0.9807\n",
            "Epoch 5/10\n",
            "1875/1875 [==============================] - 6s 3ms/step - loss: 0.0501 - accuracy: 0.9849\n",
            "Epoch 6/10\n",
            "1875/1875 [==============================] - 7s 4ms/step - loss: 0.0445 - accuracy: 0.9859\n",
            "Epoch 7/10\n",
            "1875/1875 [==============================] - 6s 3ms/step - loss: 0.0378 - accuracy: 0.9879\n",
            "Epoch 8/10\n",
            "1875/1875 [==============================] - 6s 3ms/step - loss: 0.0339 - accuracy: 0.9896\n",
            "Epoch 9/10\n",
            "1875/1875 [==============================] - 6s 3ms/step - loss: 0.0286 - accuracy: 0.9910\n",
            "Epoch 10/10\n",
            "1875/1875 [==============================] - 7s 3ms/step - loss: 0.0273 - accuracy: 0.9913\n",
            "313/313 [==============================] - 1s 2ms/step - loss: 0.1117 - accuracy: 0.9761\n",
            "Train time: 62.75504541397095\n",
            "Test loss: 0.11166869848966599\n",
            "Test accuracy: 0.9761000275611877\n"
          ]
        }
      ]
    },
    {
      "cell_type": "markdown",
      "source": [
        "## 5: Dataset split"
      ],
      "metadata": {
        "id": "P7Y5-35ug_kb"
      }
    },
    {
      "cell_type": "code",
      "source": [
        "(x_train, y_train), (x_test, y_test) = mnist.load_data()\n",
        "x = np.concatenate((x_train, x_test))\n",
        "y = np.concatenate((y_train, y_test))"
      ],
      "metadata": {
        "id": "6qMPdNX7h_RM"
      },
      "execution_count": null,
      "outputs": []
    },
    {
      "cell_type": "code",
      "source": [
        "def q5train(x_train, x_test, y_train, y_test):\n",
        "  x_train= x_train.reshape(x_train.shape[0], 784)\n",
        "  x_test= x_test.reshape(x_test.shape[0], 784)\n",
        "  y_train = np_utils.to_categorical(y_train, 10)\n",
        "  y_test = np_utils.to_categorical(y_test, 10)\n",
        "  x_train = x_train.astype('float32')\n",
        "  x_test = x_test.astype('float32')\n",
        "  x_train /= 255\n",
        "  x_test /= 255\n",
        "\n",
        "  model = Sequential()\n",
        "  model.add(Dense(128, activation='relu', input_shape=(784,)))\n",
        "  model.add(Dense(128, activation='sigmoid'))\n",
        "  model.add(Dense(10, activation='softmax'))\n",
        "  model.compile(loss='categorical_crossentropy', optimizer=Adam(), metrics=['accuracy'])\n",
        "  start= time.time()\n",
        "  history = model.fit(x_train, y_train, epochs= 10)\n",
        "  end= time.time()\n",
        "  score = model.evaluate(x_test, y_test)\n",
        "  print(\"Train time:\", (end-start))\n",
        "  print(\"Test loss:\", score[0])\n",
        "  print('Test accuracy:', score[1])\n",
        "  return score[1], (end-start)"
      ],
      "metadata": {
        "id": "PhQ8PDKziG5W"
      },
      "execution_count": null,
      "outputs": []
    },
    {
      "cell_type": "code",
      "source": [
        "al= []\n",
        "tl= []"
      ],
      "metadata": {
        "id": "fJtQIm-vikHI"
      },
      "execution_count": null,
      "outputs": []
    },
    {
      "cell_type": "code",
      "source": [
        "xr, xt, yr, yt= train_test_split(x, y, train_size= 0.5)\n",
        "acc, t= q5train(xr, xt, yr, yt)\n",
        "al.append(acc)\n",
        "tl.append(t)"
      ],
      "metadata": {
        "colab": {
          "base_uri": "https://localhost:8080/"
        },
        "id": "kBVhpQCciirS",
        "outputId": "1d3945f5-f334-4e97-d6d8-006e507fbe8b"
      },
      "execution_count": null,
      "outputs": [
        {
          "output_type": "stream",
          "name": "stdout",
          "text": [
            "Epoch 1/10\n",
            "1094/1094 [==============================] - 4s 3ms/step - loss: 0.3695 - accuracy: 0.9001\n",
            "Epoch 2/10\n",
            "1094/1094 [==============================] - 4s 4ms/step - loss: 0.1472 - accuracy: 0.9558\n",
            "Epoch 3/10\n",
            "1094/1094 [==============================] - 5s 5ms/step - loss: 0.1022 - accuracy: 0.9689\n",
            "Epoch 4/10\n",
            "1094/1094 [==============================] - 4s 3ms/step - loss: 0.0734 - accuracy: 0.9779\n",
            "Epoch 5/10\n",
            "1094/1094 [==============================] - 4s 3ms/step - loss: 0.0564 - accuracy: 0.9827\n",
            "Epoch 6/10\n",
            "1094/1094 [==============================] - 4s 3ms/step - loss: 0.0402 - accuracy: 0.9880\n",
            "Epoch 7/10\n",
            "1094/1094 [==============================] - 3s 3ms/step - loss: 0.0329 - accuracy: 0.9897\n",
            "Epoch 8/10\n",
            "1094/1094 [==============================] - 3s 3ms/step - loss: 0.0245 - accuracy: 0.9927\n",
            "Epoch 9/10\n",
            "1094/1094 [==============================] - 3s 3ms/step - loss: 0.0232 - accuracy: 0.9930\n",
            "Epoch 10/10\n",
            "1094/1094 [==============================] - 4s 3ms/step - loss: 0.0149 - accuracy: 0.9957\n",
            "1094/1094 [==============================] - 2s 2ms/step - loss: 0.0972 - accuracy: 0.9738\n",
            "Train time: 38.933515548706055\n",
            "Test loss: 0.09721233695745468\n",
            "Test accuracy: 0.9738285541534424\n"
          ]
        }
      ]
    },
    {
      "cell_type": "code",
      "source": [
        "xr, xt, yr, yt= train_test_split(x, y, train_size= 0.6)\n",
        "acc, t= q5train(xr, xt, yr, yt)\n",
        "al.append(acc)\n",
        "tl.append(t)"
      ],
      "metadata": {
        "colab": {
          "base_uri": "https://localhost:8080/"
        },
        "id": "1veHA6HQjhZA",
        "outputId": "0dfe2ee8-b406-4fdf-c4d5-9fb5ed208d0e"
      },
      "execution_count": null,
      "outputs": [
        {
          "output_type": "stream",
          "name": "stdout",
          "text": [
            "Epoch 1/10\n",
            "1313/1313 [==============================] - 5s 4ms/step - loss: 0.3451 - accuracy: 0.9047\n",
            "Epoch 2/10\n",
            "1313/1313 [==============================] - 4s 3ms/step - loss: 0.1340 - accuracy: 0.9605\n",
            "Epoch 3/10\n",
            "1313/1313 [==============================] - 4s 3ms/step - loss: 0.0900 - accuracy: 0.9724\n",
            "Epoch 4/10\n",
            "1313/1313 [==============================] - 4s 3ms/step - loss: 0.0650 - accuracy: 0.9804\n",
            "Epoch 5/10\n",
            "1313/1313 [==============================] - 5s 4ms/step - loss: 0.0474 - accuracy: 0.9860\n",
            "Epoch 6/10\n",
            "1313/1313 [==============================] - 5s 3ms/step - loss: 0.0371 - accuracy: 0.9882\n",
            "Epoch 7/10\n",
            "1313/1313 [==============================] - 4s 3ms/step - loss: 0.0281 - accuracy: 0.9914\n",
            "Epoch 8/10\n",
            "1313/1313 [==============================] - 4s 3ms/step - loss: 0.0208 - accuracy: 0.9938\n",
            "Epoch 9/10\n",
            "1313/1313 [==============================] - 4s 3ms/step - loss: 0.0179 - accuracy: 0.9946\n",
            "Epoch 10/10\n",
            "1313/1313 [==============================] - 4s 3ms/step - loss: 0.0162 - accuracy: 0.9948\n",
            "875/875 [==============================] - 2s 2ms/step - loss: 0.1066 - accuracy: 0.9727\n",
            "Train time: 43.620840549468994\n",
            "Test loss: 0.1065894365310669\n",
            "Test accuracy: 0.972678542137146\n"
          ]
        }
      ]
    },
    {
      "cell_type": "code",
      "source": [
        "xr, xt, yr, yt= train_test_split(x, y, train_size= 0.7)\n",
        "acc, t= q5train(xr, xt, yr, yt)\n",
        "al.append(acc)\n",
        "tl.append(t)"
      ],
      "metadata": {
        "colab": {
          "base_uri": "https://localhost:8080/"
        },
        "id": "tuqz1vFUmjrE",
        "outputId": "8f380115-4563-4931-a7de-1484eaf80508"
      },
      "execution_count": null,
      "outputs": [
        {
          "output_type": "stream",
          "name": "stdout",
          "text": [
            "Epoch 1/10\n",
            "1532/1532 [==============================] - 5s 3ms/step - loss: 0.3136 - accuracy: 0.9118\n",
            "Epoch 2/10\n",
            "1532/1532 [==============================] - 4s 3ms/step - loss: 0.1271 - accuracy: 0.9614\n",
            "Epoch 3/10\n",
            "1532/1532 [==============================] - 4s 3ms/step - loss: 0.0856 - accuracy: 0.9734\n",
            "Epoch 4/10\n",
            "1532/1532 [==============================] - 4s 3ms/step - loss: 0.0620 - accuracy: 0.9805\n",
            "Epoch 5/10\n",
            "1532/1532 [==============================] - 4s 3ms/step - loss: 0.0475 - accuracy: 0.9852\n",
            "Epoch 6/10\n",
            "1532/1532 [==============================] - 4s 3ms/step - loss: 0.0369 - accuracy: 0.9881\n",
            "Epoch 7/10\n",
            "1532/1532 [==============================] - 5s 3ms/step - loss: 0.0289 - accuracy: 0.9910\n",
            "Epoch 8/10\n",
            "1532/1532 [==============================] - 5s 3ms/step - loss: 0.0234 - accuracy: 0.9924\n",
            "Epoch 9/10\n",
            "1532/1532 [==============================] - 4s 3ms/step - loss: 0.0180 - accuracy: 0.9947\n",
            "Epoch 10/10\n",
            "1532/1532 [==============================] - 4s 3ms/step - loss: 0.0167 - accuracy: 0.9944\n",
            "657/657 [==============================] - 1s 2ms/step - loss: 0.0827 - accuracy: 0.9780\n",
            "Train time: 82.35266780853271\n",
            "Test loss: 0.0827120915055275\n",
            "Test accuracy: 0.9780476093292236\n"
          ]
        }
      ]
    },
    {
      "cell_type": "code",
      "source": [
        "xr, xt, yr, yt= train_test_split(x, y, train_size= 0.8)\n",
        "acc, t= q5train(xr, xt, yr, yt)\n",
        "al.append(acc)\n",
        "tl.append(t)"
      ],
      "metadata": {
        "colab": {
          "base_uri": "https://localhost:8080/"
        },
        "id": "kzPUUXssmnJe",
        "outputId": "188a440f-93c8-413a-91ea-bb122dd18cc1"
      },
      "execution_count": null,
      "outputs": [
        {
          "output_type": "stream",
          "name": "stdout",
          "text": [
            "Epoch 1/10\n",
            "1750/1750 [==============================] - 5s 3ms/step - loss: 0.2943 - accuracy: 0.9182\n",
            "Epoch 2/10\n",
            "1750/1750 [==============================] - 5s 3ms/step - loss: 0.1139 - accuracy: 0.9648\n",
            "Epoch 3/10\n",
            "1750/1750 [==============================] - 5s 3ms/step - loss: 0.0750 - accuracy: 0.9770\n",
            "Epoch 4/10\n",
            "1750/1750 [==============================] - 5s 3ms/step - loss: 0.0540 - accuracy: 0.9833\n",
            "Epoch 5/10\n",
            "1750/1750 [==============================] - 5s 3ms/step - loss: 0.0418 - accuracy: 0.9863\n",
            "Epoch 6/10\n",
            "1750/1750 [==============================] - 5s 3ms/step - loss: 0.0311 - accuracy: 0.9903\n",
            "Epoch 7/10\n",
            "1750/1750 [==============================] - 5s 3ms/step - loss: 0.0236 - accuracy: 0.9930\n",
            "Epoch 8/10\n",
            "1750/1750 [==============================] - 5s 3ms/step - loss: 0.0204 - accuracy: 0.9934\n",
            "Epoch 9/10\n",
            "1750/1750 [==============================] - 6s 3ms/step - loss: 0.0159 - accuracy: 0.9947\n",
            "Epoch 10/10\n",
            "1750/1750 [==============================] - 5s 3ms/step - loss: 0.0137 - accuracy: 0.9959\n",
            "438/438 [==============================] - 1s 2ms/step - loss: 0.1004 - accuracy: 0.9743\n",
            "Train time: 51.01970338821411\n",
            "Test loss: 0.10038667172193527\n",
            "Test accuracy: 0.9742857217788696\n"
          ]
        }
      ]
    },
    {
      "cell_type": "code",
      "source": [
        "xr, xt, yr, yt= train_test_split(x, y, train_size= 0.9)\n",
        "acc, t= q5train(xr, xt, yr, yt)\n",
        "al.append(acc)\n",
        "tl.append(t)"
      ],
      "metadata": {
        "colab": {
          "base_uri": "https://localhost:8080/"
        },
        "id": "Z0lW3l1Umo1j",
        "outputId": "b75ae978-6079-4949-817f-9aecd8de4a77"
      },
      "execution_count": null,
      "outputs": [
        {
          "output_type": "stream",
          "name": "stdout",
          "text": [
            "Epoch 1/10\n",
            "1969/1969 [==============================] - 6s 3ms/step - loss: 0.2809 - accuracy: 0.9215\n",
            "Epoch 2/10\n",
            "1969/1969 [==============================] - 6s 3ms/step - loss: 0.1082 - accuracy: 0.9673\n",
            "Epoch 3/10\n",
            "1969/1969 [==============================] - 6s 3ms/step - loss: 0.0721 - accuracy: 0.9781\n",
            "Epoch 4/10\n",
            "1969/1969 [==============================] - 6s 3ms/step - loss: 0.0522 - accuracy: 0.9836\n",
            "Epoch 5/10\n",
            "1969/1969 [==============================] - 6s 3ms/step - loss: 0.0388 - accuracy: 0.9884\n",
            "Epoch 6/10\n",
            "1969/1969 [==============================] - 5s 3ms/step - loss: 0.0313 - accuracy: 0.9900\n",
            "Epoch 7/10\n",
            "1969/1969 [==============================] - 6s 3ms/step - loss: 0.0249 - accuracy: 0.9923\n",
            "Epoch 8/10\n",
            "1969/1969 [==============================] - 6s 3ms/step - loss: 0.0203 - accuracy: 0.9933\n",
            "Epoch 9/10\n",
            "1969/1969 [==============================] - 6s 3ms/step - loss: 0.0166 - accuracy: 0.9947\n",
            "Epoch 10/10\n",
            "1969/1969 [==============================] - 6s 3ms/step - loss: 0.0136 - accuracy: 0.9955\n",
            "219/219 [==============================] - 1s 2ms/step - loss: 0.0745 - accuracy: 0.9781\n",
            "Train time: 57.64009976387024\n",
            "Test loss: 0.07446510344743729\n",
            "Test accuracy: 0.9781428575515747\n"
          ]
        }
      ]
    },
    {
      "cell_type": "code",
      "source": [
        "tsize= [0.5, 0.6, 0.7, 0.8, 0.9]\n",
        "for i, j, k in zip(tsize, al, tl):\n",
        "  print(\"training size:\", i, \"| accuracy: %.2f\" %(j*100), \"| time for training: %.2f\" %k)"
      ],
      "metadata": {
        "colab": {
          "base_uri": "https://localhost:8080/"
        },
        "id": "T4K7DVLamqeZ",
        "outputId": "c7d20adc-4ce8-48bf-fba6-1432dbd86b3e"
      },
      "execution_count": null,
      "outputs": [
        {
          "output_type": "stream",
          "name": "stdout",
          "text": [
            "training size: 0.5 | accuracy: 97.38 | time for training: 38.93\n",
            "training size: 0.6 | accuracy: 97.27 | time for training: 43.62\n",
            "training size: 0.7 | accuracy: 97.80 | time for training: 82.35\n",
            "training size: 0.8 | accuracy: 97.43 | time for training: 51.02\n",
            "training size: 0.9 | accuracy: 97.81 | time for training: 57.64\n"
          ]
        }
      ]
    },
    {
      "cell_type": "markdown",
      "source": [
        "## 6: Activation function"
      ],
      "metadata": {
        "id": "H1NsT4hloGTs"
      }
    },
    {
      "cell_type": "code",
      "source": [
        "def q6train(func, ep):\n",
        "  model = Sequential()\n",
        "  model.add(Dense(32, activation=func, input_shape=(784,)))\n",
        "  model.add(Dense(32, activation=func))\n",
        "  model.add(Dense(32, activation=func))\n",
        "  model.add(Dense(32, activation=func))\n",
        "  model.add(Dense(10, activation='softmax'))\n",
        "  model.compile(loss='categorical_crossentropy', optimizer=Adam(), metrics=['accuracy'])\n",
        "  start= time.time()\n",
        "  history = model.fit(x_train, y_train, epochs= ep)\n",
        "  end= time.time()\n",
        "  score = model.evaluate(x_test, y_test)\n",
        "  print(\"Train time for\", func, \"activation function:\", (end-start))\n",
        "  print('Test loss for', func, \"activation function:\", score[0])\n",
        "  print('Test accuracy:', score[1])\n",
        "  return score[1], (end-start)"
      ],
      "metadata": {
        "id": "mdPZa9HwoJQ3"
      },
      "execution_count": 32,
      "outputs": []
    },
    {
      "cell_type": "code",
      "source": [
        "al6= []\n",
        "tl6= []"
      ],
      "metadata": {
        "id": "ELXuGKVcpOSi"
      },
      "execution_count": 33,
      "outputs": []
    },
    {
      "cell_type": "markdown",
      "source": [
        "### 10 epochs"
      ],
      "metadata": {
        "id": "dvS5JrRhSssb"
      }
    },
    {
      "cell_type": "code",
      "source": [
        "ac, t= q6train('sigmoid', 10)\n",
        "al6.append(ac)\n",
        "tl6.append(t)"
      ],
      "metadata": {
        "colab": {
          "base_uri": "https://localhost:8080/"
        },
        "id": "oobWVrmFpRNg",
        "outputId": "0435d5ef-a4c2-4373-a591-903bcf37af84"
      },
      "execution_count": 34,
      "outputs": [
        {
          "output_type": "stream",
          "name": "stdout",
          "text": [
            "Epoch 1/10\n",
            "1875/1875 [==============================] - 5s 2ms/step - loss: 1.1235 - accuracy: 0.6316\n",
            "Epoch 2/10\n",
            "1875/1875 [==============================] - 4s 2ms/step - loss: 0.3959 - accuracy: 0.8831\n",
            "Epoch 3/10\n",
            "1875/1875 [==============================] - 4s 2ms/step - loss: 0.2457 - accuracy: 0.9344\n",
            "Epoch 4/10\n",
            "1875/1875 [==============================] - 4s 2ms/step - loss: 0.1906 - accuracy: 0.9474\n",
            "Epoch 5/10\n",
            "1875/1875 [==============================] - 4s 2ms/step - loss: 0.1594 - accuracy: 0.9556\n",
            "Epoch 6/10\n",
            "1875/1875 [==============================] - 4s 2ms/step - loss: 0.1393 - accuracy: 0.9615\n",
            "Epoch 7/10\n",
            "1875/1875 [==============================] - 4s 2ms/step - loss: 0.1232 - accuracy: 0.9657\n",
            "Epoch 8/10\n",
            "1875/1875 [==============================] - 4s 2ms/step - loss: 0.1127 - accuracy: 0.9692\n",
            "Epoch 9/10\n",
            "1875/1875 [==============================] - 4s 2ms/step - loss: 0.1029 - accuracy: 0.9715\n",
            "Epoch 10/10\n",
            "1875/1875 [==============================] - 4s 2ms/step - loss: 0.0956 - accuracy: 0.9732\n",
            "313/313 [==============================] - 1s 2ms/step - loss: 0.1396 - accuracy: 0.9616\n",
            "Train time for sigmoid activation function: 82.3976058959961\n",
            "Test loss for sigmoid activation function: 0.13963255286216736\n",
            "Test accuracy: 0.9616000056266785\n"
          ]
        }
      ]
    },
    {
      "cell_type": "code",
      "source": [
        "ac, t= q6train('tanh', 10)\n",
        "al6.append(ac)\n",
        "tl6.append(t)"
      ],
      "metadata": {
        "colab": {
          "base_uri": "https://localhost:8080/"
        },
        "id": "OYCAi5mBpW-7",
        "outputId": "b6bd3289-02cb-42dc-e298-4716bf9019a7"
      },
      "execution_count": 35,
      "outputs": [
        {
          "output_type": "stream",
          "name": "stdout",
          "text": [
            "Epoch 1/10\n",
            "1875/1875 [==============================] - 5s 2ms/step - loss: 0.3341 - accuracy: 0.9066\n",
            "Epoch 2/10\n",
            "1875/1875 [==============================] - 4s 2ms/step - loss: 0.1562 - accuracy: 0.9542\n",
            "Epoch 3/10\n",
            "1875/1875 [==============================] - 4s 2ms/step - loss: 0.1219 - accuracy: 0.9634\n",
            "Epoch 4/10\n",
            "1875/1875 [==============================] - 4s 2ms/step - loss: 0.1024 - accuracy: 0.9694\n",
            "Epoch 5/10\n",
            "1875/1875 [==============================] - 4s 2ms/step - loss: 0.0896 - accuracy: 0.9721\n",
            "Epoch 6/10\n",
            "1875/1875 [==============================] - 4s 2ms/step - loss: 0.0794 - accuracy: 0.9756\n",
            "Epoch 7/10\n",
            "1875/1875 [==============================] - 4s 2ms/step - loss: 0.0722 - accuracy: 0.9777\n",
            "Epoch 8/10\n",
            "1875/1875 [==============================] - 4s 2ms/step - loss: 0.0649 - accuracy: 0.9795\n",
            "Epoch 9/10\n",
            "1875/1875 [==============================] - 4s 2ms/step - loss: 0.0597 - accuracy: 0.9815\n",
            "Epoch 10/10\n",
            "1875/1875 [==============================] - 4s 2ms/step - loss: 0.0557 - accuracy: 0.9826\n",
            "313/313 [==============================] - 1s 2ms/step - loss: 0.1160 - accuracy: 0.9677\n",
            "Train time for tanh activation function: 41.92778134346008\n",
            "Test loss for tanh activation function: 0.11598759889602661\n",
            "Test accuracy: 0.9677000045776367\n"
          ]
        }
      ]
    },
    {
      "cell_type": "code",
      "source": [
        "ac, t= q6train('relu', 10)\n",
        "al6.append(ac)\n",
        "tl6.append(t)"
      ],
      "metadata": {
        "colab": {
          "base_uri": "https://localhost:8080/"
        },
        "id": "Y8cKxZpEqc8s",
        "outputId": "13ea71d6-b624-441b-ffed-b763d35132b1"
      },
      "execution_count": 36,
      "outputs": [
        {
          "output_type": "stream",
          "name": "stdout",
          "text": [
            "Epoch 1/10\n",
            "1875/1875 [==============================] - 5s 2ms/step - loss: 0.3617 - accuracy: 0.8913\n",
            "Epoch 2/10\n",
            "1875/1875 [==============================] - 4s 2ms/step - loss: 0.1688 - accuracy: 0.9482\n",
            "Epoch 3/10\n",
            "1875/1875 [==============================] - 4s 2ms/step - loss: 0.1309 - accuracy: 0.9606\n",
            "Epoch 4/10\n",
            "1875/1875 [==============================] - 4s 2ms/step - loss: 0.1109 - accuracy: 0.9667\n",
            "Epoch 5/10\n",
            "1875/1875 [==============================] - 4s 2ms/step - loss: 0.0976 - accuracy: 0.9699\n",
            "Epoch 6/10\n",
            "1875/1875 [==============================] - 4s 2ms/step - loss: 0.0871 - accuracy: 0.9724\n",
            "Epoch 7/10\n",
            "1875/1875 [==============================] - 4s 2ms/step - loss: 0.0803 - accuracy: 0.9751\n",
            "Epoch 8/10\n",
            "1875/1875 [==============================] - 4s 2ms/step - loss: 0.0723 - accuracy: 0.9773\n",
            "Epoch 9/10\n",
            "1875/1875 [==============================] - 4s 2ms/step - loss: 0.0659 - accuracy: 0.9790\n",
            "Epoch 10/10\n",
            "1875/1875 [==============================] - 4s 2ms/step - loss: 0.0618 - accuracy: 0.9807\n",
            "313/313 [==============================] - 1s 2ms/step - loss: 0.1343 - accuracy: 0.9628\n",
            "Train time for relu activation function: 82.44711899757385\n",
            "Test loss for relu activation function: 0.13429243862628937\n",
            "Test accuracy: 0.9628000259399414\n"
          ]
        }
      ]
    },
    {
      "cell_type": "markdown",
      "source": [
        "### 30 epochs"
      ],
      "metadata": {
        "id": "8ZSBClAUt4t8"
      }
    },
    {
      "cell_type": "code",
      "source": [
        "al62= []\n",
        "tl62= []"
      ],
      "metadata": {
        "id": "0-OpS5n7upCb"
      },
      "execution_count": 37,
      "outputs": []
    },
    {
      "cell_type": "code",
      "source": [
        "ac, t= q6train('sigmoid', 30)\n",
        "al62.append(ac)\n",
        "tl62.append(t)"
      ],
      "metadata": {
        "colab": {
          "base_uri": "https://localhost:8080/"
        },
        "id": "K-wlJI8-t6j2",
        "outputId": "caeafa30-38ec-4993-b68a-ee8515c1fda3"
      },
      "execution_count": 38,
      "outputs": [
        {
          "output_type": "stream",
          "name": "stdout",
          "text": [
            "Epoch 1/30\n",
            "1875/1875 [==============================] - 5s 2ms/step - loss: 1.1216 - accuracy: 0.6577\n",
            "Epoch 2/30\n",
            "1875/1875 [==============================] - 4s 2ms/step - loss: 0.4082 - accuracy: 0.8948\n",
            "Epoch 3/30\n",
            "1875/1875 [==============================] - 4s 2ms/step - loss: 0.2761 - accuracy: 0.9259\n",
            "Epoch 4/30\n",
            "1875/1875 [==============================] - 4s 2ms/step - loss: 0.2169 - accuracy: 0.9411\n",
            "Epoch 5/30\n",
            "1875/1875 [==============================] - 4s 2ms/step - loss: 0.1800 - accuracy: 0.9503\n",
            "Epoch 6/30\n",
            "1875/1875 [==============================] - 5s 2ms/step - loss: 0.1574 - accuracy: 0.9564\n",
            "Epoch 7/30\n",
            "1875/1875 [==============================] - 4s 2ms/step - loss: 0.1403 - accuracy: 0.9610\n",
            "Epoch 8/30\n",
            "1875/1875 [==============================] - 4s 2ms/step - loss: 0.1278 - accuracy: 0.9635\n",
            "Epoch 9/30\n",
            "1875/1875 [==============================] - 4s 2ms/step - loss: 0.1184 - accuracy: 0.9671\n",
            "Epoch 10/30\n",
            "1875/1875 [==============================] - 4s 2ms/step - loss: 0.1086 - accuracy: 0.9696\n",
            "Epoch 11/30\n",
            "1875/1875 [==============================] - 4s 2ms/step - loss: 0.1027 - accuracy: 0.9714\n",
            "Epoch 12/30\n",
            "1875/1875 [==============================] - 4s 2ms/step - loss: 0.0958 - accuracy: 0.9727\n",
            "Epoch 13/30\n",
            "1875/1875 [==============================] - 4s 2ms/step - loss: 0.0901 - accuracy: 0.9746\n",
            "Epoch 14/30\n",
            "1875/1875 [==============================] - 4s 2ms/step - loss: 0.0861 - accuracy: 0.9757\n",
            "Epoch 15/30\n",
            "1875/1875 [==============================] - 4s 2ms/step - loss: 0.0810 - accuracy: 0.9769\n",
            "Epoch 16/30\n",
            "1875/1875 [==============================] - 4s 2ms/step - loss: 0.0768 - accuracy: 0.9783\n",
            "Epoch 17/30\n",
            "1875/1875 [==============================] - 4s 2ms/step - loss: 0.0733 - accuracy: 0.9791\n",
            "Epoch 18/30\n",
            "1875/1875 [==============================] - 4s 2ms/step - loss: 0.0697 - accuracy: 0.9803\n",
            "Epoch 19/30\n",
            "1875/1875 [==============================] - 4s 2ms/step - loss: 0.0661 - accuracy: 0.9817\n",
            "Epoch 20/30\n",
            "1875/1875 [==============================] - 4s 2ms/step - loss: 0.0620 - accuracy: 0.9826\n",
            "Epoch 21/30\n",
            "1875/1875 [==============================] - 4s 2ms/step - loss: 0.0601 - accuracy: 0.9830\n",
            "Epoch 22/30\n",
            "1875/1875 [==============================] - 4s 2ms/step - loss: 0.0579 - accuracy: 0.9835\n",
            "Epoch 23/30\n",
            "1875/1875 [==============================] - 4s 2ms/step - loss: 0.0551 - accuracy: 0.9843\n",
            "Epoch 24/30\n",
            "1875/1875 [==============================] - 4s 2ms/step - loss: 0.0522 - accuracy: 0.9857\n",
            "Epoch 25/30\n",
            "1875/1875 [==============================] - 4s 2ms/step - loss: 0.0503 - accuracy: 0.9862\n",
            "Epoch 26/30\n",
            "1875/1875 [==============================] - 4s 2ms/step - loss: 0.0502 - accuracy: 0.9858\n",
            "Epoch 27/30\n",
            "1875/1875 [==============================] - 4s 2ms/step - loss: 0.0470 - accuracy: 0.9869\n",
            "Epoch 28/30\n",
            "1875/1875 [==============================] - 4s 2ms/step - loss: 0.0457 - accuracy: 0.9869\n",
            "Epoch 29/30\n",
            "1875/1875 [==============================] - 4s 2ms/step - loss: 0.0431 - accuracy: 0.9883\n",
            "Epoch 30/30\n",
            "1875/1875 [==============================] - 4s 2ms/step - loss: 0.0422 - accuracy: 0.9879\n",
            "313/313 [==============================] - 1s 2ms/step - loss: 0.1710 - accuracy: 0.9598\n",
            "Train time for sigmoid activation function: 142.43747663497925\n",
            "Test loss for sigmoid activation function: 0.17095758020877838\n",
            "Test accuracy: 0.9598000049591064\n"
          ]
        }
      ]
    },
    {
      "cell_type": "code",
      "source": [
        "ac, t= q6train('tanh', 30)\n",
        "al62.append(ac)\n",
        "tl62.append(t)"
      ],
      "metadata": {
        "colab": {
          "base_uri": "https://localhost:8080/"
        },
        "id": "G-LyEY_at-Hj",
        "outputId": "a722d0ee-79bb-4e6d-d525-5f518c795251"
      },
      "execution_count": 39,
      "outputs": [
        {
          "output_type": "stream",
          "name": "stdout",
          "text": [
            "Epoch 1/30\n",
            "1875/1875 [==============================] - 5s 2ms/step - loss: 0.3359 - accuracy: 0.9055\n",
            "Epoch 2/30\n",
            "1875/1875 [==============================] - 4s 2ms/step - loss: 0.1557 - accuracy: 0.9534\n",
            "Epoch 3/30\n",
            "1875/1875 [==============================] - 4s 2ms/step - loss: 0.1213 - accuracy: 0.9637\n",
            "Epoch 4/30\n",
            "1875/1875 [==============================] - 4s 2ms/step - loss: 0.1009 - accuracy: 0.9694\n",
            "Epoch 5/30\n",
            "1875/1875 [==============================] - 4s 2ms/step - loss: 0.0883 - accuracy: 0.9732\n",
            "Epoch 6/30\n",
            "1875/1875 [==============================] - 4s 2ms/step - loss: 0.0783 - accuracy: 0.9758\n",
            "Epoch 7/30\n",
            "1875/1875 [==============================] - 4s 2ms/step - loss: 0.0707 - accuracy: 0.9782\n",
            "Epoch 8/30\n",
            "1875/1875 [==============================] - 4s 2ms/step - loss: 0.0649 - accuracy: 0.9797\n",
            "Epoch 9/30\n",
            "1875/1875 [==============================] - 4s 2ms/step - loss: 0.0586 - accuracy: 0.9819\n",
            "Epoch 10/30\n",
            "1875/1875 [==============================] - 4s 2ms/step - loss: 0.0540 - accuracy: 0.9832\n",
            "Epoch 11/30\n",
            "1875/1875 [==============================] - 4s 2ms/step - loss: 0.0497 - accuracy: 0.9847\n",
            "Epoch 12/30\n",
            "1875/1875 [==============================] - 4s 2ms/step - loss: 0.0461 - accuracy: 0.9860\n",
            "Epoch 13/30\n",
            "1875/1875 [==============================] - 4s 2ms/step - loss: 0.0460 - accuracy: 0.9855\n",
            "Epoch 14/30\n",
            "1875/1875 [==============================] - 5s 2ms/step - loss: 0.0406 - accuracy: 0.9875\n",
            "Epoch 15/30\n",
            "1875/1875 [==============================] - 4s 2ms/step - loss: 0.0384 - accuracy: 0.9879\n",
            "Epoch 16/30\n",
            "1875/1875 [==============================] - 4s 2ms/step - loss: 0.0390 - accuracy: 0.9878\n",
            "Epoch 17/30\n",
            "1875/1875 [==============================] - 5s 2ms/step - loss: 0.0355 - accuracy: 0.9890\n",
            "Epoch 18/30\n",
            "1875/1875 [==============================] - 4s 2ms/step - loss: 0.0338 - accuracy: 0.9894\n",
            "Epoch 19/30\n",
            "1875/1875 [==============================] - 4s 2ms/step - loss: 0.0328 - accuracy: 0.9893\n",
            "Epoch 20/30\n",
            "1875/1875 [==============================] - 4s 2ms/step - loss: 0.0302 - accuracy: 0.9906\n",
            "Epoch 21/30\n",
            "1875/1875 [==============================] - 4s 2ms/step - loss: 0.0291 - accuracy: 0.9907\n",
            "Epoch 22/30\n",
            "1875/1875 [==============================] - 4s 2ms/step - loss: 0.0283 - accuracy: 0.9912\n",
            "Epoch 23/30\n",
            "1875/1875 [==============================] - 4s 2ms/step - loss: 0.0265 - accuracy: 0.9917\n",
            "Epoch 24/30\n",
            "1875/1875 [==============================] - 4s 2ms/step - loss: 0.0257 - accuracy: 0.9918\n",
            "Epoch 25/30\n",
            "1875/1875 [==============================] - 4s 2ms/step - loss: 0.0234 - accuracy: 0.9928\n",
            "Epoch 26/30\n",
            "1875/1875 [==============================] - 5s 3ms/step - loss: 0.0252 - accuracy: 0.9918\n",
            "Epoch 27/30\n",
            "1875/1875 [==============================] - 5s 3ms/step - loss: 0.0229 - accuracy: 0.9927\n",
            "Epoch 28/30\n",
            "1875/1875 [==============================] - 5s 2ms/step - loss: 0.0234 - accuracy: 0.9928\n",
            "Epoch 29/30\n",
            "1875/1875 [==============================] - 5s 2ms/step - loss: 0.0224 - accuracy: 0.9931\n",
            "Epoch 30/30\n",
            "1875/1875 [==============================] - 4s 2ms/step - loss: 0.0208 - accuracy: 0.9932\n",
            "313/313 [==============================] - 1s 2ms/step - loss: 0.1662 - accuracy: 0.9677\n",
            "Train time for tanh activation function: 134.1806297302246\n",
            "Test loss for tanh activation function: 0.16615043580532074\n",
            "Test accuracy: 0.9677000045776367\n"
          ]
        }
      ]
    },
    {
      "cell_type": "code",
      "source": [
        "ac, t= q6train('relu', 30)\n",
        "al62.append(ac)\n",
        "tl62.append(t)"
      ],
      "metadata": {
        "colab": {
          "base_uri": "https://localhost:8080/"
        },
        "id": "2_GFuQ1Ft_O6",
        "outputId": "8e491be7-eb97-4a7a-cb4e-1fb51ba8b664"
      },
      "execution_count": 40,
      "outputs": [
        {
          "output_type": "stream",
          "name": "stdout",
          "text": [
            "Epoch 1/30\n",
            "1875/1875 [==============================] - 5s 2ms/step - loss: 0.3642 - accuracy: 0.8902\n",
            "Epoch 2/30\n",
            "1875/1875 [==============================] - 4s 2ms/step - loss: 0.1662 - accuracy: 0.9509\n",
            "Epoch 3/30\n",
            "1875/1875 [==============================] - 5s 2ms/step - loss: 0.1320 - accuracy: 0.9607\n",
            "Epoch 4/30\n",
            "1875/1875 [==============================] - 5s 2ms/step - loss: 0.1135 - accuracy: 0.9656\n",
            "Epoch 5/30\n",
            "1875/1875 [==============================] - 6s 3ms/step - loss: 0.1004 - accuracy: 0.9696\n",
            "Epoch 6/30\n",
            "1875/1875 [==============================] - 5s 2ms/step - loss: 0.0890 - accuracy: 0.9726\n",
            "Epoch 7/30\n",
            "1875/1875 [==============================] - 5s 2ms/step - loss: 0.0798 - accuracy: 0.9751\n",
            "Epoch 8/30\n",
            "1875/1875 [==============================] - 4s 2ms/step - loss: 0.0735 - accuracy: 0.9769\n",
            "Epoch 9/30\n",
            "1875/1875 [==============================] - 4s 2ms/step - loss: 0.0681 - accuracy: 0.9781\n",
            "Epoch 10/30\n",
            "1875/1875 [==============================] - 4s 2ms/step - loss: 0.0648 - accuracy: 0.9791\n",
            "Epoch 11/30\n",
            "1875/1875 [==============================] - 4s 2ms/step - loss: 0.0596 - accuracy: 0.9811\n",
            "Epoch 12/30\n",
            "1875/1875 [==============================] - 7s 4ms/step - loss: 0.0561 - accuracy: 0.9819\n",
            "Epoch 13/30\n",
            "1875/1875 [==============================] - 6s 3ms/step - loss: 0.0518 - accuracy: 0.9832\n",
            "Epoch 14/30\n",
            "1875/1875 [==============================] - 6s 3ms/step - loss: 0.0491 - accuracy: 0.9843\n",
            "Epoch 15/30\n",
            "1875/1875 [==============================] - 5s 3ms/step - loss: 0.0465 - accuracy: 0.9845\n",
            "Epoch 16/30\n",
            "1875/1875 [==============================] - 5s 2ms/step - loss: 0.0445 - accuracy: 0.9855\n",
            "Epoch 17/30\n",
            "1875/1875 [==============================] - 5s 3ms/step - loss: 0.0420 - accuracy: 0.9860\n",
            "Epoch 18/30\n",
            "1875/1875 [==============================] - 5s 2ms/step - loss: 0.0417 - accuracy: 0.9864\n",
            "Epoch 19/30\n",
            "1875/1875 [==============================] - 5s 3ms/step - loss: 0.0386 - accuracy: 0.9876\n",
            "Epoch 20/30\n",
            "1875/1875 [==============================] - 5s 3ms/step - loss: 0.0375 - accuracy: 0.9879\n",
            "Epoch 21/30\n",
            "1875/1875 [==============================] - 5s 2ms/step - loss: 0.0335 - accuracy: 0.9888\n",
            "Epoch 22/30\n",
            "1875/1875 [==============================] - 5s 3ms/step - loss: 0.0344 - accuracy: 0.9885\n",
            "Epoch 23/30\n",
            "1875/1875 [==============================] - 5s 2ms/step - loss: 0.0341 - accuracy: 0.9887\n",
            "Epoch 24/30\n",
            "1875/1875 [==============================] - 5s 2ms/step - loss: 0.0303 - accuracy: 0.9898\n",
            "Epoch 25/30\n",
            "1875/1875 [==============================] - 5s 3ms/step - loss: 0.0310 - accuracy: 0.9899\n",
            "Epoch 26/30\n",
            "1875/1875 [==============================] - 5s 3ms/step - loss: 0.0314 - accuracy: 0.9895\n",
            "Epoch 27/30\n",
            "1875/1875 [==============================] - 5s 2ms/step - loss: 0.0287 - accuracy: 0.9909\n",
            "Epoch 28/30\n",
            "1875/1875 [==============================] - 5s 2ms/step - loss: 0.0295 - accuracy: 0.9905\n",
            "Epoch 29/30\n",
            "1875/1875 [==============================] - 5s 3ms/step - loss: 0.0269 - accuracy: 0.9913\n",
            "Epoch 30/30\n",
            "1875/1875 [==============================] - 5s 3ms/step - loss: 0.0270 - accuracy: 0.9908\n",
            "313/313 [==============================] - 1s 2ms/step - loss: 0.1628 - accuracy: 0.9691\n",
            "Train time for relu activation function: 145.5359971523285\n",
            "Test loss for relu activation function: 0.1628231406211853\n",
            "Test accuracy: 0.9690999984741211\n"
          ]
        }
      ]
    },
    {
      "cell_type": "code",
      "source": [
        "funcn= ['sigmoid', 'tanh', 'relu']\n",
        "for i, j, k in zip(funcn, al6, tl6):\n",
        "  print(\"activation function:\", i, \"| accuracy: %.2f\" %(j*100), \"| time for training: %.2f\" %k, \"| epochs: 10\")\n",
        "\n",
        "for i, j, k in zip(funcn, al62, tl62):\n",
        "  print(\"activation function:\", i, \"| accuracy: %.2f\" %(j*100), \"| time for training: %.2f\" %k, \"| epochs: 30\")"
      ],
      "metadata": {
        "colab": {
          "base_uri": "https://localhost:8080/"
        },
        "id": "yU0V4RhkqeVO",
        "outputId": "13af34bc-3b02-4753-f55e-0fb42a6bf991"
      },
      "execution_count": 41,
      "outputs": [
        {
          "output_type": "stream",
          "name": "stdout",
          "text": [
            "activation function: sigmoid | accuracy: 96.16 | time for training: 82.40 | epochs: 10\n",
            "activation function: tanh | accuracy: 96.77 | time for training: 41.93 | epochs: 10\n",
            "activation function: relu | accuracy: 96.28 | time for training: 82.45 | epochs: 10\n",
            "activation function: sigmoid | accuracy: 95.98 | time for training: 142.44 | epochs: 30\n",
            "activation function: tanh | accuracy: 96.77 | time for training: 134.18 | epochs: 30\n",
            "activation function: relu | accuracy: 96.91 | time for training: 145.54 | epochs: 30\n"
          ]
        }
      ]
    },
    {
      "cell_type": "markdown",
      "source": [
        "## 7: Activation function combinations"
      ],
      "metadata": {
        "id": "YPBvsQdgrhMW"
      }
    },
    {
      "cell_type": "code",
      "source": [
        "model = Sequential()\n",
        "model.add(Dense(32, activation='sigmoid', input_shape=(784,)))\n",
        "model.add(Dense(32, activation='relu'))\n",
        "model.add(Dense(32, activation='tanh'))\n",
        "model.add(Dense(10, activation='softmax'))\n",
        "model.compile(loss='categorical_crossentropy', optimizer=Adam(), metrics=['accuracy'])\n",
        "start= time.time()\n",
        "history = model.fit(x_train, y_train, epochs= 10)\n",
        "end= time.time()\n",
        "score = model.evaluate(x_test, y_test)\n",
        "print(\"Train time:\", (end-start))\n",
        "print(\"Test loss:\", score[0])\n",
        "print('Test accuracy:', score[1])"
      ],
      "metadata": {
        "colab": {
          "base_uri": "https://localhost:8080/"
        },
        "id": "28dymBACrhx3",
        "outputId": "2531e564-aa5d-41a7-f259-9e34bd1ffd46"
      },
      "execution_count": null,
      "outputs": [
        {
          "output_type": "stream",
          "name": "stdout",
          "text": [
            "Epoch 1/10\n",
            "1875/1875 [==============================] - 5s 3ms/step - loss: 0.4113 - accuracy: 0.8868\n",
            "Epoch 2/10\n",
            "1875/1875 [==============================] - 4s 2ms/step - loss: 0.1811 - accuracy: 0.9473\n",
            "Epoch 3/10\n",
            "1875/1875 [==============================] - 4s 2ms/step - loss: 0.1403 - accuracy: 0.9574\n",
            "Epoch 4/10\n",
            "1875/1875 [==============================] - 4s 2ms/step - loss: 0.1167 - accuracy: 0.9654\n",
            "Epoch 5/10\n",
            "1875/1875 [==============================] - 4s 2ms/step - loss: 0.1011 - accuracy: 0.9691\n",
            "Epoch 6/10\n",
            "1875/1875 [==============================] - 4s 2ms/step - loss: 0.0908 - accuracy: 0.9727\n",
            "Epoch 7/10\n",
            "1875/1875 [==============================] - 4s 2ms/step - loss: 0.0818 - accuracy: 0.9746\n",
            "Epoch 8/10\n",
            "1875/1875 [==============================] - 4s 2ms/step - loss: 0.0741 - accuracy: 0.9773\n",
            "Epoch 9/10\n",
            "1875/1875 [==============================] - 5s 2ms/step - loss: 0.0684 - accuracy: 0.9789\n",
            "Epoch 10/10\n",
            "1875/1875 [==============================] - 4s 2ms/step - loss: 0.0621 - accuracy: 0.9812\n",
            "313/313 [==============================] - 1s 2ms/step - loss: 0.1120 - accuracy: 0.9679\n",
            "Train time: 82.3641746044159\n",
            "Test loss: 0.11203908920288086\n",
            "Test accuracy: 0.9678999781608582\n"
          ]
        }
      ]
    },
    {
      "cell_type": "code",
      "source": [
        "model = Sequential()\n",
        "model.add(Dense(32, activation='relu', input_shape=(784,)))\n",
        "model.add(Dense(32, activation='tanh'))\n",
        "model.add(Dense(32, activation='sigmoid'))\n",
        "model.add(Dense(10, activation='softmax'))\n",
        "model.compile(loss='categorical_crossentropy', optimizer=Adam(), metrics=['accuracy'])\n",
        "start= time.time()\n",
        "history = model.fit(x_train, y_train, epochs= 10)\n",
        "end= time.time()\n",
        "score = model.evaluate(x_test, y_test)\n",
        "print(\"Train time:\", (end-start))\n",
        "print(\"Test loss:\", score[0])\n",
        "print('Test accuracy:', score[1])"
      ],
      "metadata": {
        "colab": {
          "base_uri": "https://localhost:8080/"
        },
        "id": "J2mb24NrrsQD",
        "outputId": "58957c03-0ec2-4202-c87a-010c7c6a3368"
      },
      "execution_count": null,
      "outputs": [
        {
          "output_type": "stream",
          "name": "stdout",
          "text": [
            "Epoch 1/10\n",
            "1875/1875 [==============================] - 5s 2ms/step - loss: 0.5002 - accuracy: 0.8824\n",
            "Epoch 2/10\n",
            "1875/1875 [==============================] - 5s 2ms/step - loss: 0.1749 - accuracy: 0.9491\n",
            "Epoch 3/10\n",
            "1875/1875 [==============================] - 4s 2ms/step - loss: 0.1286 - accuracy: 0.9624\n",
            "Epoch 4/10\n",
            "1875/1875 [==============================] - 5s 3ms/step - loss: 0.1053 - accuracy: 0.9686\n",
            "Epoch 5/10\n",
            "1875/1875 [==============================] - 4s 2ms/step - loss: 0.0896 - accuracy: 0.9732\n",
            "Epoch 6/10\n",
            "1875/1875 [==============================] - 5s 3ms/step - loss: 0.0790 - accuracy: 0.9761\n",
            "Epoch 7/10\n",
            "1875/1875 [==============================] - 4s 2ms/step - loss: 0.0711 - accuracy: 0.9783\n",
            "Epoch 8/10\n",
            "1875/1875 [==============================] - 6s 3ms/step - loss: 0.0635 - accuracy: 0.9810\n",
            "Epoch 9/10\n",
            "1875/1875 [==============================] - 5s 2ms/step - loss: 0.0577 - accuracy: 0.9827\n",
            "Epoch 10/10\n",
            "1875/1875 [==============================] - 5s 2ms/step - loss: 0.0533 - accuracy: 0.9833\n",
            "313/313 [==============================] - 1s 2ms/step - loss: 0.1179 - accuracy: 0.9662\n",
            "Train time: 47.64222860336304\n",
            "Test loss: 0.11785846948623657\n",
            "Test accuracy: 0.9661999940872192\n"
          ]
        }
      ]
    },
    {
      "cell_type": "code",
      "source": [
        "model = Sequential()\n",
        "model.add(Dense(32, activation='sigmoid', input_shape=(784,)))\n",
        "model.add(Dense(32, activation='tanh'))\n",
        "model.add(Dense(32, activation='sigmoid'))\n",
        "model.add(Dense(10, activation='softmax'))\n",
        "model.compile(loss='categorical_crossentropy', optimizer=Adam(), metrics=['accuracy'])\n",
        "start= time.time()\n",
        "history = model.fit(x_train, y_train, epochs= 10)\n",
        "end= time.time()\n",
        "score = model.evaluate(x_test, y_test)\n",
        "print(\"Train time:\", (end-start))\n",
        "print(\"Test loss:\", score[0])\n",
        "print('Test accuracy:', score[1])"
      ],
      "metadata": {
        "colab": {
          "base_uri": "https://localhost:8080/"
        },
        "id": "cw-Jw1FBrvTV",
        "outputId": "32acd501-a825-4db3-d84e-1e253ac52df2"
      },
      "execution_count": null,
      "outputs": [
        {
          "output_type": "stream",
          "name": "stdout",
          "text": [
            "Epoch 1/10\n",
            "1875/1875 [==============================] - 5s 3ms/step - loss: 0.6440 - accuracy: 0.8329\n",
            "Epoch 2/10\n",
            "1875/1875 [==============================] - 5s 3ms/step - loss: 0.2183 - accuracy: 0.9377\n",
            "Epoch 3/10\n",
            "1875/1875 [==============================] - 5s 2ms/step - loss: 0.1597 - accuracy: 0.9537\n",
            "Epoch 4/10\n",
            "1875/1875 [==============================] - 4s 2ms/step - loss: 0.1302 - accuracy: 0.9622\n",
            "Epoch 5/10\n",
            "1875/1875 [==============================] - 5s 2ms/step - loss: 0.1112 - accuracy: 0.9669\n",
            "Epoch 6/10\n",
            "1875/1875 [==============================] - 5s 2ms/step - loss: 0.0983 - accuracy: 0.9713\n",
            "Epoch 7/10\n",
            "1875/1875 [==============================] - 4s 2ms/step - loss: 0.0884 - accuracy: 0.9735\n",
            "Epoch 8/10\n",
            "1875/1875 [==============================] - 4s 2ms/step - loss: 0.0800 - accuracy: 0.9763\n",
            "Epoch 9/10\n",
            "1875/1875 [==============================] - 4s 2ms/step - loss: 0.0740 - accuracy: 0.9783\n",
            "Epoch 10/10\n",
            "1875/1875 [==============================] - 4s 2ms/step - loss: 0.0670 - accuracy: 0.9796\n",
            "313/313 [==============================] - 1s 2ms/step - loss: 0.1171 - accuracy: 0.9656\n",
            "Train time: 45.864259243011475\n",
            "Test loss: 0.11710849404335022\n",
            "Test accuracy: 0.9656000137329102\n"
          ]
        }
      ]
    },
    {
      "cell_type": "code",
      "source": [
        "model = Sequential()\n",
        "model.add(Dense(256, activation='relu', input_shape=(784,)))\n",
        "model.add(Dense(128, activation='tanh'))\n",
        "model.add(Dense(64, activation='relu'))\n",
        "model.add(Dense(10, activation='softmax'))\n",
        "model.compile(loss='categorical_crossentropy', optimizer=Adam(), metrics=['accuracy'])\n",
        "start= time.time()\n",
        "history = model.fit(x_train, y_train, epochs= 10)\n",
        "end= time.time()\n",
        "score = model.evaluate(x_test, y_test)\n",
        "print(\"Train time:\", (end-start))\n",
        "print(\"Test loss:\", score[0])\n",
        "print('Test accuracy:', score[1])"
      ],
      "metadata": {
        "colab": {
          "base_uri": "https://localhost:8080/"
        },
        "id": "uJWb_YU7rzPJ",
        "outputId": "29eb77b0-df82-4a77-fbba-456e26345c46"
      },
      "execution_count": null,
      "outputs": [
        {
          "output_type": "stream",
          "name": "stdout",
          "text": [
            "Epoch 1/10\n",
            "1875/1875 [==============================] - 10s 5ms/step - loss: 0.2014 - accuracy: 0.9398\n",
            "Epoch 2/10\n",
            "1875/1875 [==============================] - 8s 4ms/step - loss: 0.0867 - accuracy: 0.9727\n",
            "Epoch 3/10\n",
            "1875/1875 [==============================] - 8s 4ms/step - loss: 0.0615 - accuracy: 0.9800\n",
            "Epoch 4/10\n",
            "1875/1875 [==============================] - 9s 5ms/step - loss: 0.0456 - accuracy: 0.9851\n",
            "Epoch 5/10\n",
            "1875/1875 [==============================] - 8s 4ms/step - loss: 0.0366 - accuracy: 0.9878\n",
            "Epoch 6/10\n",
            "1875/1875 [==============================] - 8s 4ms/step - loss: 0.0303 - accuracy: 0.9905\n",
            "Epoch 7/10\n",
            "1875/1875 [==============================] - 8s 4ms/step - loss: 0.0258 - accuracy: 0.9916\n",
            "Epoch 8/10\n",
            "1875/1875 [==============================] - 7s 4ms/step - loss: 0.0236 - accuracy: 0.9919\n",
            "Epoch 9/10\n",
            "1875/1875 [==============================] - 8s 4ms/step - loss: 0.0197 - accuracy: 0.9934\n",
            "Epoch 10/10\n",
            "1875/1875 [==============================] - 7s 4ms/step - loss: 0.0170 - accuracy: 0.9945\n",
            "313/313 [==============================] - 1s 2ms/step - loss: 0.0778 - accuracy: 0.9813\n",
            "Train time: 82.7124285697937\n",
            "Test loss: 0.07775337994098663\n",
            "Test accuracy: 0.9812999963760376\n"
          ]
        }
      ]
    }
  ]
}